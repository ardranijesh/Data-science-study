{
 "cells": [
  {
   "cell_type": "markdown",
   "id": "264f5e3d",
   "metadata": {},
   "source": [
    "## We will starts with some shortcuts of jupytor note book\n",
    "\n",
    "### Why Jupyter Notebook\n",
    "\n",
    "- Markdown to use as WORD file to display import information\n",
    "- variable suggestions\n",
    "- method recomendation\n",
    "- last line has default PRINT\n",
    "- faster to execute for ML, DL operations\n",
    "\n",
    "-----> Insert Code Cell Above ==> a\n",
    "\n",
    "-----> Insert Code Cell Below ==> b\n",
    "\n",
    "-----> Move Cursor Inside the cell ==> Enter\n",
    "\n",
    "-----> Move Cursor Outside the cell ==> Escape\n",
    "\n",
    "**Run :**\n",
    "\n",
    "-----> ctrl + enter ==> Run the cell and cursor remains on the same cell\n",
    "\n",
    "-----> shift + enter ==> Run the cell and moves the cursor to the next cell\n",
    "\n",
    "-----> alt + enter ==> Run the cell and moves the cursor to the next CREATED cell\n",
    "\n",
    "\n",
    "-----> Delete the cell ==> dd\n",
    "\n",
    "-----> convert cell to markdown ==> m\n",
    "\n",
    "-----> convert cell to code ==> y\n",
    "\n",
    "# heading1\n",
    "## heading2\n",
    "### heading3\n",
    "#### heading4\n",
    "##### heading5\n",
    "###### heading6\n",
    "\n",
    "https://www.anaconda.com/products/distribution"
   ]
  },
  {
   "cell_type": "code",
   "execution_count": 4,
   "id": "0b00a311",
   "metadata": {},
   "outputs": [
    {
     "name": "stdout",
     "output_type": "stream",
     "text": [
      "35\n"
     ]
    }
   ],
   "source": [
    "print(5*7)"
   ]
  },
  {
   "cell_type": "code",
   "execution_count": 5,
   "id": "d9632874",
   "metadata": {},
   "outputs": [
    {
     "name": "stdout",
     "output_type": "stream",
     "text": [
      "7\n"
     ]
    }
   ],
   "source": [
    "print(9-2)"
   ]
  },
  {
   "cell_type": "code",
   "execution_count": 7,
   "id": "07b2e6ec",
   "metadata": {},
   "outputs": [
    {
     "data": {
      "text/plain": [
       "'ARDRA'"
      ]
     },
     "execution_count": 7,
     "metadata": {},
     "output_type": "execute_result"
    }
   ],
   "source": [
    "string= 'ardra'\n",
    "string.upper()"
   ]
  },
  {
   "cell_type": "code",
   "execution_count": 8,
   "id": "43588e30",
   "metadata": {},
   "outputs": [
    {
     "data": {
      "text/plain": [
       "[1, 3, 5, 7]"
      ]
     },
     "execution_count": 8,
     "metadata": {},
     "output_type": "execute_result"
    }
   ],
   "source": [
    "list_name= [1,3,5,7]\n",
    "list_name"
   ]
  },
  {
   "cell_type": "code",
   "execution_count": 10,
   "id": "b3a2b1a2",
   "metadata": {},
   "outputs": [
    {
     "name": "stdout",
     "output_type": "stream",
     "text": [
      "ARDRA\n"
     ]
    }
   ],
   "source": [
    "string_name= 'ardra'\n",
    "colour= 'blue'\n",
    "print(string_name.upper())"
   ]
  },
  {
   "cell_type": "code",
   "execution_count": 11,
   "id": "ed22f7e0",
   "metadata": {},
   "outputs": [
    {
     "data": {
      "image/png": "[encoded data removed]",
      "text/plain": [
       "<Figure size 640x480 with 1 Axes>"
      ]
     },
     "metadata": {},
     "output_type": "display_data"
    },
    {
     "name": "stdout",
     "output_type": "stream",
     "text": [
      "3\n"
     ]
    }
   ],
   "source": [
    "import matplotlib.pyplot as plt\n",
    "x1= [1,5,7,9]\n",
    "y1= [2,3,4,6]\n",
    "plt.plot(x1,y1)\n",
    "plt.show()\n",
    "print(5-2)"
   ]
  },
  {
   "cell_type": "markdown",
   "id": "8205ff94",
   "metadata": {},
   "source": [
    "- print  :used to prints or displays to the output screen\n",
    "- print ('...', sep, end)\n",
    "- sep -----> separate the variables or operations written inside the print\n",
    "- end -----> sepate one print from another"
   ]
  },
  {
   "cell_type": "code",
   "execution_count": 12,
   "id": "9ec1b22a",
   "metadata": {},
   "outputs": [
    {
     "data": {
      "text/plain": [
       "2"
      ]
     },
     "execution_count": 12,
     "metadata": {},
     "output_type": "execute_result"
    }
   ],
   "source": [
    "stringName = \"dwbnebcj wefbewmfbemnf ef\"\n",
    "\n",
    "stringName.count('ef')"
   ]
  },
  {
   "cell_type": "markdown",
   "id": "0f933c91",
   "metadata": {},
   "source": [
    "### Variables\n",
    "\n",
    "- store the value\n",
    "- Present on LHS of \"=\"\n",
    "- identifiers are a part of the variable\n",
    "\n",
    "a = 10\n",
    "b = -3\n",
    "c = 'hi'\n"
   ]
  },
  {
   "cell_type": "markdown",
   "id": "fc8c4ffe",
   "metadata": {},
   "source": [
    "### Rules for naming the variables\n",
    "1. Variable shall contain alphabets , numbers and underscores only\n",
    "2. Variable names shall NOT start with numbers\n",
    "3. No Special characters are allowed\n",
    "4. keywords are not allowed ."
   ]
  },
  {
   "cell_type": "code",
   "execution_count": 14,
   "id": "3a669150",
   "metadata": {},
   "outputs": [
    {
     "name": "stdout",
     "output_type": "stream",
     "text": [
      "['False', 'None', 'True', '__peg_parser__', 'and', 'as', 'assert', 'async', 'await', 'break', 'class', 'continue', 'def', 'del', 'elif', 'else', 'except', 'finally', 'for', 'from', 'global', 'if', 'import', 'in', 'is', 'lambda', 'nonlocal', 'not', 'or', 'pass', 'raise', 'return', 'try', 'while', 'with', 'yield']\n"
     ]
    }
   ],
   "source": [
    "import keyword\n",
    "print(keyword.kwlist)"
   ]
  },
  {
   "cell_type": "markdown",
   "id": "be6a99e2",
   "metadata": {},
   "source": [
    "# Data Types\n",
    "\n",
    "- Fundamentals == \n",
    "string, integer, float, complex, boolean\n",
    "\n",
    "\n",
    "- Derived == \n",
    "list, tuple, dictionary, sets, arrays\n",
    "#### 1. Strings\n",
    "- collection of characters \n",
    "- enclosed in a pair of single or double quotes\n",
    "- Use a pair of triple single or double quotes for multiple line strings\n",
    "- Ordered\n",
    "#### 2. Integer\n",
    "- any discrete number\n",
    "#### 3. Float\n",
    "- any continuous number\n",
    "#### 4. Complex\n",
    "- pair of real and imaginary\n",
    "- representation of iota : j\n",
    "- returns the output in tuple representation\n",
    "#### 5. Boolean\n",
    "- True , False\n",
    "- These values are returned when you compare something (relational and logical)\n",
    "- they are also used with conditional statments and loops also\n",
    "- If some information is there inside the variable then its always TRUE, else FALSE\n",
    "#### 6. Type casting : Converting one datatype to another\n",
    "- Syntax : datatype(variableName)"
   ]
  },
  {
   "cell_type": "markdown",
   "id": "fbb312c1",
   "metadata": {},
   "source": [
    "# Operators\n",
    "### 1. Assignment Operator\n",
    "- = to assign a value to the variable\n",
    "### 2. Airthmetic Operator\n",
    "- / * - + ** % //\n",
    "\n",
    "- operator= pattern\n",
    "\n",
    "Eg :  i += 10\n",
    "\n",
    "      j *= 100\n",
    "#### 3. Relational or Comparison Operators\n",
    "- < > <= >= == !=\n",
    "#### 4. Logical Operators\n",
    "- and(&) or(|) not\n",
    "AND Logic : Returns True if all the expression are TRUE, else return False\n",
    "    \n",
    "    \n",
    "Expression-1   Expression-2   OUTPUT\n",
    "True           True            TRUE\n",
    "False          True            FALSE\n",
    "True           False            FALSE\n",
    "False           False            FALSE\n",
    "\n",
    "OR Logic : Returns FALSE if all the expression are FALSE, else return TRUE\n",
    "    \n",
    "    \n",
    "Expression-1   Expression-2   OUTPUT\n",
    "True           True            TRUE\n",
    "False          True            TRUE\n",
    "True           False            TRUE\n",
    "False           False            FALSE\n",
    "\n",
    "#### 5. Membership Operator\n",
    "\n",
    "- return True if elements is present inside the sequence else return False\n",
    "- in \n",
    "\n",
    "- << not in >> is opposite of << in >>\n",
    "\n",
    "#### 6. Identity Operator\n",
    "\n",
    "- returns TRUE if values are equal and they have the same datatype else FALSE\n",
    "- is\n",
    "\n",
    "- << is not >> is opposite of << is >>\n",
    "\n",
    "## INPUT \n",
    "\n",
    "- this helps to take value from the user\n",
    "- input(\"\")\n",
    "- values are default taken as string"
   ]
  },
  {
   "cell_type": "markdown",
   "id": "940441f9",
   "metadata": {},
   "source": [
    "### String ???\n",
    "\n",
    "- collection of characters \n",
    "- enclosed in a pair of single or double quotes\n",
    "- Use a pair of triple single or double quotes for multiple line strings\n",
    "- Ordered\n",
    "\n",
    "Basics Operations:\n",
    "len, index, slicing, repeat, concat, membership\n",
    "- 1. len => returns total chars\n",
    "- # 2. Indexing and Slicing \n",
    "=> index means to return the char at specified position\n",
    "   stringName[position]\n",
    "\n",
    "=> slicing means to return the chunk of string\n",
    "    stringName[start : end : stepSize]\n",
    "    \n",
    " stringName[start : end : stepSize]\n",
    " start : Default is 0\n",
    " end : This is EXCLUSIVE. end = end - 1 . Default is LENGTH of sequence\n",
    " stepsize : Default = 1 -->\n",
    "\n",
    "stringName = 'python'\n",
    "\n",
    "\n",
    " read first 2 chars\n",
    "print( stringName[ 0 : 2 : 1 ] ) # 0 1"
   ]
  },
  {
   "cell_type": "code",
   "execution_count": 16,
   "id": "3f17f431",
   "metadata": {},
   "outputs": [
    {
     "name": "stdout",
     "output_type": "stream",
     "text": [
      "['__add__', '__class__', '__contains__', '__delattr__', '__dir__', '__doc__', '__eq__', '__format__', '__ge__', '__getattribute__', '__getitem__', '__getnewargs__', '__gt__', '__hash__', '__init__', '__init_subclass__', '__iter__', '__le__', '__len__', '__lt__', '__mod__', '__mul__', '__ne__', '__new__', '__reduce__', '__reduce_ex__', '__repr__', '__rmod__', '__rmul__', '__setattr__', '__sizeof__', '__str__', '__subclasshook__', 'capitalize', 'casefold', 'center', 'count', 'encode', 'endswith', 'expandtabs', 'find', 'format', 'format_map', 'index', 'isalnum', 'isalpha', 'isascii', 'isdecimal', 'isdigit', 'isidentifier', 'islower', 'isnumeric', 'isprintable', 'isspace', 'istitle', 'isupper', 'join', 'ljust', 'lower', 'lstrip', 'maketrans', 'partition', 'removeprefix', 'removesuffix', 'replace', 'rfind', 'rindex', 'rjust', 'rpartition', 'rsplit', 'rstrip', 'split', 'splitlines', 'startswith', 'strip', 'swapcase', 'title', 'translate', 'upper', 'zfill']\n"
     ]
    }
   ],
   "source": [
    "# String Method:\n",
    "print(dir(str))"
   ]
  },
  {
   "cell_type": "code",
   "execution_count": 17,
   "id": "9eeb3aa3",
   "metadata": {},
   "outputs": [
    {
     "name": "stdout",
     "output_type": "stream",
     "text": [
      "['__add__', '__class__', '__class_getitem__', '__contains__', '__delattr__', '__dir__', '__doc__', '__eq__', '__format__', '__ge__', '__getattribute__', '__getitem__', '__getnewargs__', '__gt__', '__hash__', '__init__', '__init_subclass__', '__iter__', '__le__', '__len__', '__lt__', '__mul__', '__ne__', '__new__', '__reduce__', '__reduce_ex__', '__repr__', '__rmul__', '__setattr__', '__sizeof__', '__str__', '__subclasshook__', 'count', 'index']\n"
     ]
    }
   ],
   "source": [
    "print( dir(tuple) )"
   ]
  },
  {
   "cell_type": "code",
   "execution_count": 18,
   "id": "48d428b6",
   "metadata": {},
   "outputs": [
    {
     "name": "stdout",
     "output_type": "stream",
     "text": [
      "['__add__', '__class__', '__class_getitem__', '__contains__', '__delattr__', '__delitem__', '__dir__', '__doc__', '__eq__', '__format__', '__ge__', '__getattribute__', '__getitem__', '__gt__', '__hash__', '__iadd__', '__imul__', '__init__', '__init_subclass__', '__iter__', '__le__', '__len__', '__lt__', '__mul__', '__ne__', '__new__', '__reduce__', '__reduce_ex__', '__repr__', '__reversed__', '__rmul__', '__setattr__', '__setitem__', '__sizeof__', '__str__', '__subclasshook__', 'append', 'clear', 'copy', 'count', 'extend', 'index', 'insert', 'pop', 'remove', 'reverse', 'sort']\n"
     ]
    }
   ],
   "source": [
    "print( dir(list) )"
   ]
  },
  {
   "cell_type": "markdown",
   "id": "40cbe483",
   "metadata": {},
   "source": [
    "# Conditional Statment"
   ]
  },
  {
   "cell_type": "markdown",
   "id": "6d0720f6",
   "metadata": {},
   "source": [
    "# if else Block : \n",
    "\n",
    "\n",
    "- if block is executed if the EXPRESSION is TRUE\n",
    "- else block is executed if all the IF and ELIF blocks are FALSE\n",
    "- elif block is used in continuing the IF logic\n",
    "\n",
    "\n",
    "Syntax : \n",
    "\n",
    "if EXPRESSION : \n",
    "    statement\n",
    "    statement\n",
    "    statement\n",
    "    \n",
    "elif EXPRESSION : \n",
    "    statement\n",
    "    statement\n",
    "    statement\n",
    "    \n",
    "else : \n",
    "    statement\n",
    "    statement\n",
    "    statement\n",
    "    \n",
    "    \n",
    "\n",
    "##### Nested If Else\n",
    "\n",
    "if EXPRESSION : \n",
    "    statement\n",
    "\n",
    "    if EXPRESSION : \n",
    "        statement\n",
    "\n",
    "    else : \n",
    "        statement\n",
    "\n",
    "    statement\n",
    "    statement\n",
    "    \n",
    "elif EXPRESSION : \n",
    "    statement\n",
    "    \n",
    "    if EXPRESSION : \n",
    "        statement\n",
    "\n",
    "    else : \n",
    "        statement\n",
    "    \n",
    "else : \n",
    "    statement\n",
    "    statement\n",
    "    statement\n",
    "\n",
    "\n",
    "\n",
    "\n",
    "\n",
    "### Notes : \n",
    "- There can be multiple if's\n",
    "- ELSE is linked to the last IF it is used with.\n",
    "- else and elif blocks don't exist without IF block\n",
    "- if block can exist without them\n",
    "- there can be multiple ELIF blocks\n"
   ]
  },
  {
   "cell_type": "code",
   "execution_count": null,
   "id": "4793f6c1",
   "metadata": {},
   "outputs": [],
   "source": []
  }
 ],
 "metadata": {
  "kernelspec": {
   "display_name": "Python 3 (ipykernel)",
   "language": "python",
   "name": "python3"
  },
  "language_info": {
   "codemirror_mode": {
    "name": "ipython",
    "version": 3
   },
   "file_extension": ".py",
   "mimetype": "text/x-python",
   "name": "python",
   "nbconvert_exporter": "python",
   "pygments_lexer": "ipython3",
   "version": "3.9.13"
  }
 },
 "nbformat": 4,
 "nbformat_minor": 5
}
