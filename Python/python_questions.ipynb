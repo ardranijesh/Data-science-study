{
 "cells": [
  {
   "cell_type": "code",
   "execution_count": null,
   "metadata": {},
   "outputs": [],
   "source": [
    "# Check the given number is odd or even\n",
    "\n",
    "n = int(input(\"Please enter the number:\"))\n",
    "print(\"**************************** Modulus Operator *******************\")\n",
    "if n%2 ==0:\n",
    "    print(n, \"Number uis even\")\n",
    "else:\n",
    "    print(n, \"Number is odd\")\n",
    "print(\"******************** Bitwise Operator**************************\")\n"
   ]
  },
  {
   "cell_type": "code",
   "execution_count": null,
   "metadata": {},
   "outputs": [],
   "source": []
  }
 ],
 "metadata": {
  "language_info": {
   "name": "python"
  }
 },
 "nbformat": 4,
 "nbformat_minor": 2
}
