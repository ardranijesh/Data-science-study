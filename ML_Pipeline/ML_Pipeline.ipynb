{
 "cells": [
  {
   "cell_type": "code",
   "execution_count": 4,
   "id": "02f78ccd",
   "metadata": {},
   "outputs": [],
   "source": [
    "import os\n",
    "import numpy as np\n",
    "import pandas as pd\n",
    "from sklearn.model_selection import train_test_split, cross_val_score\n",
    "from sklearn.ensemble import RandomForestClassifier\n",
    "from sklearn.linear_model import LogisticRegression\n",
    "from sklearn.metrics import accuracy_score\n",
    "from sklearn.impute import SimpleImputer\n",
    "from sklearn.preprocessing import StandardScaler\n",
    "from sklearn.compose import ColumnTransformer\n",
    "from sklearn.pipeline import Pipeline\n",
    "from hyperopt import fmin, tpe, hp # hyper parameter tuning"
   ]
  },
  {
   "cell_type": "code",
   "execution_count": 5,
   "id": "ce8eca40",
   "metadata": {},
   "outputs": [],
   "source": [
    "# read data from csv\n",
    "def read_csv(file_path):\n",
    "    return pd.read_csv(file_path)\n",
    "\n",
    "# creating feature\n",
    "def create_feature(data):\n",
    "    return data\n",
    "\n",
    "# Training a classifier model\n",
    "def train_classifier(data):\n",
    "    x_train, x_test, y_train, y_test= train_test_split(x, y, test_size=0.2, random_state=45, stratify=y)\n",
    "    model= RandomForestClassifier()\n",
    "    model.fit(x_train, y_train)\n",
    "    y_pred= model.predict(x_test)\n",
    "    accuracy= accuracy_score(y_test, y_pred)\n",
    "    return model, accuracy\n",
    "\n",
    "# Hyper parameter tuning\n",
    "def objective(param):\n",
    "    model= RandomForestClassifier(**param)\n",
    "    score= cross_val_score(model, x, y, cv=5).mean()\n",
    "    return score\n",
    "\n",
    "# Evaluating model on the test set\n",
    "def evaluate_model(model, x_test, y_test):\n",
    "    y_pred= model.predict(x_test)\n",
    "    accuracy= accuracy_score(y_test, y_pred)\n",
    "    return accuracy"
   ]
  },
  {
   "cell_type": "code",
   "execution_count": null,
   "id": "78f2fdee",
   "metadata": {},
   "outputs": [],
   "source": [
    "file_path = \"./Iris.csv\"\n",
    "data= read_csv(file_path)\n",
    "data"
   ]
  }
 ],
 "metadata": {
  "kernelspec": {
   "display_name": "Python 3 (ipykernel)",
   "language": "python",
   "name": "python3"
  },
  "language_info": {
   "codemirror_mode": {
    "name": "ipython",
    "version": 3
   },
   "file_extension": ".py",
   "mimetype": "text/x-python",
   "name": "python",
   "nbconvert_exporter": "python",
   "pygments_lexer": "ipython3",
   "version": "3.11.7"
  }
 },
 "nbformat": 4,
 "nbformat_minor": 5
}
