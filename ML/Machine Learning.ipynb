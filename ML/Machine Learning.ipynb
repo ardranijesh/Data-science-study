{
 "cells": [
  {
   "cell_type": "markdown",
   "id": "2a45bb87",
   "metadata": {},
   "source": [
    "# Pre-processing Steps\n"
   ]
  },
  {
   "cell_type": "code",
   "execution_count": 1,
   "id": "eb98a04a",
   "metadata": {},
   "outputs": [],
   "source": [
    "# Basis Library\n",
    "import os , sys\n",
    "import numpy as np\n",
    "import pandas as pd\n",
    "import matplotlib.pyplot as plt\n",
    "import seaborn as sns\n",
    "%matplotlib inline\n",
    "sns.set()\n",
    "import warnings\n",
    "warnings.filterwarnings('ignore')"
   ]
  },
  {
   "cell_type": "code",
   "execution_count": 2,
   "id": "48b6f85c",
   "metadata": {},
   "outputs": [
    {
     "data": {
      "text/plain": [
       "'C:\\\\Users\\\\ardra\\\\PycharmProjects\\\\pythonProject\\\\Data-science-study\\\\ML'"
      ]
     },
     "execution_count": 2,
     "metadata": {},
     "output_type": "execute_result"
    }
   ],
   "source": [
    "os.getcwd()"
   ]
  },
  {
   "cell_type": "code",
   "execution_count": 3,
   "id": "8e90b0d8",
   "metadata": {},
   "outputs": [
    {
     "data": {
      "text/html": [
       "<div>\n",
       "<style scoped>\n",
       "    .dataframe tbody tr th:only-of-type {\n",
       "        vertical-align: middle;\n",
       "    }\n",
       "\n",
       "    .dataframe tbody tr th {\n",
       "        vertical-align: top;\n",
       "    }\n",
       "\n",
       "    .dataframe thead th {\n",
       "        text-align: right;\n",
       "    }\n",
       "</style>\n",
       "<table border=\"1\" class=\"dataframe\">\n",
       "  <thead>\n",
       "    <tr style=\"text-align: right;\">\n",
       "      <th></th>\n",
       "      <th>Employee Id</th>\n",
       "      <th>First Name</th>\n",
       "      <th>Last Name</th>\n",
       "      <th>Department</th>\n",
       "      <th>Age</th>\n",
       "      <th>Experience</th>\n",
       "      <th>Salary</th>\n",
       "    </tr>\n",
       "  </thead>\n",
       "  <tbody>\n",
       "    <tr>\n",
       "      <th>0</th>\n",
       "      <td>1</td>\n",
       "      <td>Joy</td>\n",
       "      <td>Bass</td>\n",
       "      <td>Sales and Marketing</td>\n",
       "      <td>28.0</td>\n",
       "      <td>3.0</td>\n",
       "      <td>32889</td>\n",
       "    </tr>\n",
       "    <tr>\n",
       "      <th>1</th>\n",
       "      <td>2</td>\n",
       "      <td>Sheila</td>\n",
       "      <td>Garza</td>\n",
       "      <td>Sales and Marketing</td>\n",
       "      <td>22.0</td>\n",
       "      <td>1.0</td>\n",
       "      <td>15944</td>\n",
       "    </tr>\n",
       "    <tr>\n",
       "      <th>2</th>\n",
       "      <td>3</td>\n",
       "      <td>John</td>\n",
       "      <td>Bryant</td>\n",
       "      <td>Customer Relations</td>\n",
       "      <td>22.0</td>\n",
       "      <td>1.0</td>\n",
       "      <td>40343</td>\n",
       "    </tr>\n",
       "    <tr>\n",
       "      <th>3</th>\n",
       "      <td>4</td>\n",
       "      <td>Christian</td>\n",
       "      <td>Farley</td>\n",
       "      <td>Customer Relations</td>\n",
       "      <td>22.0</td>\n",
       "      <td>1.0</td>\n",
       "      <td>19018</td>\n",
       "    </tr>\n",
       "    <tr>\n",
       "      <th>4</th>\n",
       "      <td>5</td>\n",
       "      <td>Colorado</td>\n",
       "      <td>Bowen</td>\n",
       "      <td>Accounting</td>\n",
       "      <td>27.0</td>\n",
       "      <td>0.0</td>\n",
       "      <td>24795</td>\n",
       "    </tr>\n",
       "    <tr>\n",
       "      <th>...</th>\n",
       "      <td>...</td>\n",
       "      <td>...</td>\n",
       "      <td>...</td>\n",
       "      <td>...</td>\n",
       "      <td>...</td>\n",
       "      <td>...</td>\n",
       "      <td>...</td>\n",
       "    </tr>\n",
       "    <tr>\n",
       "      <th>95</th>\n",
       "      <td>96</td>\n",
       "      <td>Tyrone</td>\n",
       "      <td>Barber</td>\n",
       "      <td>Sales and Marketing</td>\n",
       "      <td>47.0</td>\n",
       "      <td>22.0</td>\n",
       "      <td>79077</td>\n",
       "    </tr>\n",
       "    <tr>\n",
       "      <th>96</th>\n",
       "      <td>97</td>\n",
       "      <td>Urielle</td>\n",
       "      <td>Herrera</td>\n",
       "      <td>Sales and Marketing</td>\n",
       "      <td>46.0</td>\n",
       "      <td>20.0</td>\n",
       "      <td>81187</td>\n",
       "    </tr>\n",
       "    <tr>\n",
       "      <th>97</th>\n",
       "      <td>98</td>\n",
       "      <td>Brendan</td>\n",
       "      <td>Solis</td>\n",
       "      <td>Customer Relations</td>\n",
       "      <td>44.0</td>\n",
       "      <td>18.0</td>\n",
       "      <td>83847</td>\n",
       "    </tr>\n",
       "    <tr>\n",
       "      <th>98</th>\n",
       "      <td>99</td>\n",
       "      <td>Holmes</td>\n",
       "      <td>Nelson</td>\n",
       "      <td>Customer Relations</td>\n",
       "      <td>47.0</td>\n",
       "      <td>22.0</td>\n",
       "      <td>89158</td>\n",
       "    </tr>\n",
       "    <tr>\n",
       "      <th>99</th>\n",
       "      <td>100</td>\n",
       "      <td>Avye</td>\n",
       "      <td>Davidson</td>\n",
       "      <td>Accounting</td>\n",
       "      <td>44.0</td>\n",
       "      <td>21.0</td>\n",
       "      <td>91645</td>\n",
       "    </tr>\n",
       "  </tbody>\n",
       "</table>\n",
       "<p>100 rows × 7 columns</p>\n",
       "</div>"
      ],
      "text/plain": [
       "    Employee Id First Name Last Name           Department   Age  Experience  \\\n",
       "0             1        Joy      Bass  Sales and Marketing  28.0         3.0   \n",
       "1             2     Sheila     Garza  Sales and Marketing  22.0         1.0   \n",
       "2             3       John    Bryant   Customer Relations  22.0         1.0   \n",
       "3             4  Christian    Farley   Customer Relations  22.0         1.0   \n",
       "4             5   Colorado     Bowen           Accounting  27.0         0.0   \n",
       "..          ...        ...       ...                  ...   ...         ...   \n",
       "95           96     Tyrone    Barber  Sales and Marketing  47.0        22.0   \n",
       "96           97    Urielle   Herrera  Sales and Marketing  46.0        20.0   \n",
       "97           98    Brendan     Solis   Customer Relations  44.0        18.0   \n",
       "98           99     Holmes    Nelson   Customer Relations  47.0        22.0   \n",
       "99          100       Avye  Davidson           Accounting  44.0        21.0   \n",
       "\n",
       "    Salary  \n",
       "0    32889  \n",
       "1    15944  \n",
       "2    40343  \n",
       "3    19018  \n",
       "4    24795  \n",
       "..     ...  \n",
       "95   79077  \n",
       "96   81187  \n",
       "97   83847  \n",
       "98   89158  \n",
       "99   91645  \n",
       "\n",
       "[100 rows x 7 columns]"
      ]
     },
     "execution_count": 3,
     "metadata": {},
     "output_type": "execute_result"
    }
   ],
   "source": [
    "df= pd.read_excel('Employee_Data.xls')\n",
    "df"
   ]
  },
  {
   "cell_type": "code",
   "execution_count": 4,
   "id": "8ca5c009",
   "metadata": {},
   "outputs": [
    {
     "data": {
      "text/html": [
       "<div>\n",
       "<style scoped>\n",
       "    .dataframe tbody tr th:only-of-type {\n",
       "        vertical-align: middle;\n",
       "    }\n",
       "\n",
       "    .dataframe tbody tr th {\n",
       "        vertical-align: top;\n",
       "    }\n",
       "\n",
       "    .dataframe thead th {\n",
       "        text-align: right;\n",
       "    }\n",
       "</style>\n",
       "<table border=\"1\" class=\"dataframe\">\n",
       "  <thead>\n",
       "    <tr style=\"text-align: right;\">\n",
       "      <th></th>\n",
       "      <th>Employee Id</th>\n",
       "      <th>First Name</th>\n",
       "      <th>Last Name</th>\n",
       "      <th>Department</th>\n",
       "      <th>Age</th>\n",
       "      <th>Experience</th>\n",
       "      <th>Salary</th>\n",
       "    </tr>\n",
       "  </thead>\n",
       "  <tbody>\n",
       "    <tr>\n",
       "      <th>0</th>\n",
       "      <td>1</td>\n",
       "      <td>Joy</td>\n",
       "      <td>Bass</td>\n",
       "      <td>Sales and Marketing</td>\n",
       "      <td>28.0</td>\n",
       "      <td>3.0</td>\n",
       "      <td>32889</td>\n",
       "    </tr>\n",
       "    <tr>\n",
       "      <th>1</th>\n",
       "      <td>2</td>\n",
       "      <td>Sheila</td>\n",
       "      <td>Garza</td>\n",
       "      <td>Sales and Marketing</td>\n",
       "      <td>22.0</td>\n",
       "      <td>1.0</td>\n",
       "      <td>15944</td>\n",
       "    </tr>\n",
       "    <tr>\n",
       "      <th>2</th>\n",
       "      <td>3</td>\n",
       "      <td>John</td>\n",
       "      <td>Bryant</td>\n",
       "      <td>Customer Relations</td>\n",
       "      <td>22.0</td>\n",
       "      <td>1.0</td>\n",
       "      <td>40343</td>\n",
       "    </tr>\n",
       "    <tr>\n",
       "      <th>3</th>\n",
       "      <td>4</td>\n",
       "      <td>Christian</td>\n",
       "      <td>Farley</td>\n",
       "      <td>Customer Relations</td>\n",
       "      <td>22.0</td>\n",
       "      <td>1.0</td>\n",
       "      <td>19018</td>\n",
       "    </tr>\n",
       "    <tr>\n",
       "      <th>4</th>\n",
       "      <td>5</td>\n",
       "      <td>Colorado</td>\n",
       "      <td>Bowen</td>\n",
       "      <td>Accounting</td>\n",
       "      <td>27.0</td>\n",
       "      <td>0.0</td>\n",
       "      <td>24795</td>\n",
       "    </tr>\n",
       "    <tr>\n",
       "      <th>...</th>\n",
       "      <td>...</td>\n",
       "      <td>...</td>\n",
       "      <td>...</td>\n",
       "      <td>...</td>\n",
       "      <td>...</td>\n",
       "      <td>...</td>\n",
       "      <td>...</td>\n",
       "    </tr>\n",
       "    <tr>\n",
       "      <th>95</th>\n",
       "      <td>96</td>\n",
       "      <td>Tyrone</td>\n",
       "      <td>Barber</td>\n",
       "      <td>Sales and Marketing</td>\n",
       "      <td>47.0</td>\n",
       "      <td>22.0</td>\n",
       "      <td>79077</td>\n",
       "    </tr>\n",
       "    <tr>\n",
       "      <th>96</th>\n",
       "      <td>97</td>\n",
       "      <td>Urielle</td>\n",
       "      <td>Herrera</td>\n",
       "      <td>Sales and Marketing</td>\n",
       "      <td>46.0</td>\n",
       "      <td>20.0</td>\n",
       "      <td>81187</td>\n",
       "    </tr>\n",
       "    <tr>\n",
       "      <th>97</th>\n",
       "      <td>98</td>\n",
       "      <td>Brendan</td>\n",
       "      <td>Solis</td>\n",
       "      <td>Customer Relations</td>\n",
       "      <td>44.0</td>\n",
       "      <td>18.0</td>\n",
       "      <td>83847</td>\n",
       "    </tr>\n",
       "    <tr>\n",
       "      <th>98</th>\n",
       "      <td>99</td>\n",
       "      <td>Holmes</td>\n",
       "      <td>Nelson</td>\n",
       "      <td>Customer Relations</td>\n",
       "      <td>47.0</td>\n",
       "      <td>22.0</td>\n",
       "      <td>89158</td>\n",
       "    </tr>\n",
       "    <tr>\n",
       "      <th>99</th>\n",
       "      <td>100</td>\n",
       "      <td>Avye</td>\n",
       "      <td>Davidson</td>\n",
       "      <td>Accounting</td>\n",
       "      <td>44.0</td>\n",
       "      <td>21.0</td>\n",
       "      <td>91645</td>\n",
       "    </tr>\n",
       "  </tbody>\n",
       "</table>\n",
       "<p>100 rows × 7 columns</p>\n",
       "</div>"
      ],
      "text/plain": [
       "    Employee Id First Name Last Name           Department   Age  Experience  \\\n",
       "0             1        Joy      Bass  Sales and Marketing  28.0         3.0   \n",
       "1             2     Sheila     Garza  Sales and Marketing  22.0         1.0   \n",
       "2             3       John    Bryant   Customer Relations  22.0         1.0   \n",
       "3             4  Christian    Farley   Customer Relations  22.0         1.0   \n",
       "4             5   Colorado     Bowen           Accounting  27.0         0.0   \n",
       "..          ...        ...       ...                  ...   ...         ...   \n",
       "95           96     Tyrone    Barber  Sales and Marketing  47.0        22.0   \n",
       "96           97    Urielle   Herrera  Sales and Marketing  46.0        20.0   \n",
       "97           98    Brendan     Solis   Customer Relations  44.0        18.0   \n",
       "98           99     Holmes    Nelson   Customer Relations  47.0        22.0   \n",
       "99          100       Avye  Davidson           Accounting  44.0        21.0   \n",
       "\n",
       "    Salary  \n",
       "0    32889  \n",
       "1    15944  \n",
       "2    40343  \n",
       "3    19018  \n",
       "4    24795  \n",
       "..     ...  \n",
       "95   79077  \n",
       "96   81187  \n",
       "97   83847  \n",
       "98   89158  \n",
       "99   91645  \n",
       "\n",
       "[100 rows x 7 columns]"
      ]
     },
     "execution_count": 4,
     "metadata": {},
     "output_type": "execute_result"
    }
   ],
   "source": [
    "mydata= df.copy()\n",
    "mydata"
   ]
  },
  {
   "cell_type": "code",
   "execution_count": 5,
   "id": "73d65f95",
   "metadata": {},
   "outputs": [
    {
     "data": {
      "text/plain": [
       "(100, 7)"
      ]
     },
     "execution_count": 5,
     "metadata": {},
     "output_type": "execute_result"
    }
   ],
   "source": [
    "# How many data poits and features have? \n",
    "df.shape"
   ]
  },
  {
   "cell_type": "code",
   "execution_count": 6,
   "id": "cc991f2c",
   "metadata": {},
   "outputs": [
    {
     "data": {
      "text/plain": [
       "Index(['Employee Id', 'First Name', 'Last Name', 'Department', 'Age',\n",
       "       'Experience', 'Salary'],\n",
       "      dtype='object')"
      ]
     },
     "execution_count": 6,
     "metadata": {},
     "output_type": "execute_result"
    }
   ],
   "source": [
    "# What are the columns name given in our data set\n",
    "df.columns"
   ]
  },
  {
   "cell_type": "code",
   "execution_count": 7,
   "id": "61acfe77",
   "metadata": {},
   "outputs": [
    {
     "data": {
      "text/plain": [
       "Sales and Marketing    30\n",
       "Accounting             27\n",
       "Customer Relations     24\n",
       "Name: Department, dtype: int64"
      ]
     },
     "execution_count": 7,
     "metadata": {},
     "output_type": "execute_result"
    }
   ],
   "source": [
    "df['Department'].value_counts()"
   ]
  },
  {
   "cell_type": "code",
   "execution_count": 9,
   "id": "2534d4ca",
   "metadata": {},
   "outputs": [
    {
     "name": "stdout",
     "output_type": "stream",
     "text": [
      "<class 'pandas.core.frame.DataFrame'>\n",
      "RangeIndex: 100 entries, 0 to 99\n",
      "Data columns (total 7 columns):\n",
      " #   Column       Non-Null Count  Dtype  \n",
      "---  ------       --------------  -----  \n",
      " 0   Employee Id  100 non-null    int64  \n",
      " 1   First Name   100 non-null    object \n",
      " 2   Last Name    100 non-null    object \n",
      " 3   Department   81 non-null     object \n",
      " 4   Age          82 non-null     float64\n",
      " 5   Experience   90 non-null     float64\n",
      " 6   Salary       100 non-null    int64  \n",
      "dtypes: float64(2), int64(2), object(3)\n",
      "memory usage: 5.6+ KB\n"
     ]
    }
   ],
   "source": [
    "# What are the data types we have?\n",
    "df.info()"
   ]
  },
  {
   "cell_type": "code",
   "execution_count": 10,
   "id": "00d54b4f",
   "metadata": {},
   "outputs": [
    {
     "data": {
      "text/plain": [
       "Employee Id     0.0\n",
       "First Name      0.0\n",
       "Last Name       0.0\n",
       "Department     19.0\n",
       "Age            18.0\n",
       "Experience     10.0\n",
       "Salary          0.0\n",
       "dtype: float64"
      ]
     },
     "execution_count": 10,
     "metadata": {},
     "output_type": "execute_result"
    }
   ],
   "source": [
    "# pre-processing\n",
    "# Part 1  :Handling Missing value\n",
    "df.isnull().sum()/len(df)*100"
   ]
  },
  {
   "cell_type": "code",
   "execution_count": 12,
   "id": "17f295b7",
   "metadata": {},
   "outputs": [
    {
     "data": {
      "text/plain": [
       "Sales and Marketing    30\n",
       "Accounting             27\n",
       "Customer Relations     24\n",
       "Name: Department, dtype: int64"
      ]
     },
     "execution_count": 12,
     "metadata": {},
     "output_type": "execute_result"
    }
   ],
   "source": [
    "# imputation is required in the missing variable\n",
    "# Department - Object\n",
    "# Age and Experience - Number\n",
    "df['Department'].value_counts()"
   ]
  },
  {
   "cell_type": "code",
   "execution_count": 13,
   "id": "728972e4",
   "metadata": {},
   "outputs": [],
   "source": [
    "df['Department'] = df['Department'].fillna('Sales and Marketing')"
   ]
  },
  {
   "cell_type": "code",
   "execution_count": 14,
   "id": "d3aacfad",
   "metadata": {},
   "outputs": [
    {
     "data": {
      "text/plain": [
       "Sales and Marketing    49\n",
       "Accounting             27\n",
       "Customer Relations     24\n",
       "Name: Department, dtype: int64"
      ]
     },
     "execution_count": 14,
     "metadata": {},
     "output_type": "execute_result"
    }
   ],
   "source": [
    "df['Department'].value_counts()"
   ]
  },
  {
   "cell_type": "code",
   "execution_count": 15,
   "id": "8f8db185",
   "metadata": {},
   "outputs": [
    {
     "data": {
      "text/plain": [
       "<AxesSubplot:ylabel='Age'>"
      ]
     },
     "execution_count": 15,
     "metadata": {},
     "output_type": "execute_result"
    },
    {
     "data": {
      "image/png": "[encoded data removed]",
      "text/plain": [
       "<Figure size 640x480 with 1 Axes>"
      ]
     },
     "metadata": {},
     "output_type": "display_data"
    }
   ],
   "source": [
    "# Age and Experience - Numerical variables\n",
    "# Mean or Median depending on outlier\n",
    "# If outlier found median, If no outlier mean\n",
    "sns.boxplot(y= 'Age', data=df)"
   ]
  },
  {
   "cell_type": "code",
   "execution_count": 16,
   "id": "91340b2a",
   "metadata": {},
   "outputs": [
    {
     "data": {
      "text/plain": [
       "<AxesSubplot:ylabel='Experience'>"
      ]
     },
     "execution_count": 16,
     "metadata": {},
     "output_type": "execute_result"
    },
    {
     "data": {
      "image/png": "[encoded data removed]",
      "text/plain": [
       "<Figure size 640x480 with 1 Axes>"
      ]
     },
     "metadata": {},
     "output_type": "display_data"
    }
   ],
   "source": [
    "# No outlier : We can go with mean\n",
    "sns.boxplot(y= 'Experience', data=df)"
   ]
  },
  {
   "cell_type": "code",
   "execution_count": 17,
   "id": "57504ac3",
   "metadata": {},
   "outputs": [],
   "source": [
    "df['Age'] = df['Age'].fillna(df['Age'].mean())"
   ]
  },
  {
   "cell_type": "code",
   "execution_count": 20,
   "id": "732df05d",
   "metadata": {},
   "outputs": [
    {
     "data": {
      "image/png": "[encoded data removed]",
      "text/plain": [
       "<Figure size 640x480 with 1 Axes>"
      ]
     },
     "metadata": {},
     "output_type": "display_data"
    },
    {
     "data": {
      "image/png": "[encoded data removed]",
      "text/plain": [
       "<Figure size 640x480 with 1 Axes>"
      ]
     },
     "metadata": {},
     "output_type": "display_data"
    },
    {
     "data": {
      "image/png": "[encoded data removed]",
      "text/plain": [
       "<Figure size 640x480 with 1 Axes>"
      ]
     },
     "metadata": {},
     "output_type": "display_data"
    }
   ],
   "source": [
    "def boxplot(col):\n",
    "    sns.boxplot(df[col])\n",
    "    plt.show()\n",
    "for i in list(df.select_dtypes(exclude=['object']).columns)[1:]:\n",
    "    boxplot(i)"
   ]
  },
  {
   "cell_type": "code",
   "execution_count": 21,
   "id": "5113e14c",
   "metadata": {},
   "outputs": [
    {
     "data": {
      "text/plain": [
       "Employee Id     0\n",
       "First Name      0\n",
       "Last Name       0\n",
       "Department     19\n",
       "Age            18\n",
       "Experience     10\n",
       "Salary          0\n",
       "dtype: int64"
      ]
     },
     "execution_count": 21,
     "metadata": {},
     "output_type": "execute_result"
    }
   ],
   "source": [
    "mydata.isnull().sum()"
   ]
  },
  {
   "cell_type": "code",
   "execution_count": 25,
   "id": "3ada3665",
   "metadata": {},
   "outputs": [
    {
     "data": {
      "text/plain": [
       "array([[2.8000e+01, 3.0000e+00, 3.2889e+04],\n",
       "       [2.2000e+01, 1.0000e+00, 1.5944e+04],\n",
       "       [2.2000e+01, 1.0000e+00, 4.0343e+04],\n",
       "       [2.2000e+01, 1.0000e+00, 1.9018e+04],\n",
       "       [2.7000e+01, 0.0000e+00, 2.4795e+04],\n",
       "       [2.6000e+01, 5.0000e+00, 1.5387e+04],\n",
       "       [2.4000e+01, 6.0000e+00, 3.4117e+04],\n",
       "       [2.9000e+01, 2.0000e+00, 1.6099e+04],\n",
       "       [2.9000e+01, 5.0000e+00, 4.2105e+04],\n",
       "       [3.0000e+01, 6.0000e+00, 1.1891e+04],\n",
       "       [2.6000e+01, 5.0000e+00, 3.4687e+04],\n",
       "       [2.6000e+01, 6.0000e+00, 2.3549e+04],\n",
       "       [2.4000e+01, 5.0000e+00, 2.9110e+04],\n",
       "       [2.2000e+01, 2.0000e+00, 3.3435e+04],\n",
       "       [2.5000e+01, 3.0000e+00, 1.1830e+04],\n",
       "       [2.5000e+01,        nan, 4.4065e+04],\n",
       "       [2.2000e+01,        nan, 1.3266e+04],\n",
       "       [2.5000e+01,        nan, 1.6631e+04],\n",
       "       [2.7000e+01,        nan, 2.9886e+04],\n",
       "       [2.5000e+01,        nan, 3.0464e+04],\n",
       "       [2.2000e+01,        nan, 1.4943e+04],\n",
       "       [2.2000e+01,        nan, 1.8632e+04],\n",
       "       [2.4000e+01,        nan, 3.8183e+04],\n",
       "       [2.7000e+01,        nan, 4.3093e+04],\n",
       "       [2.2000e+01,        nan, 2.6573e+04],\n",
       "       [3.3000e+01, 1.3000e+01, 5.1228e+04],\n",
       "       [3.6000e+01, 7.0000e+00, 5.7902e+04],\n",
       "       [3.5000e+01, 1.0000e+01, 5.4233e+04],\n",
       "       [3.3000e+01, 1.2000e+01, 7.0010e+04],\n",
       "       [3.0000e+01, 1.4000e+01, 7.4683e+04],\n",
       "       [4.0000e+01, 1.5000e+01, 5.3867e+04],\n",
       "       [3.9000e+01, 1.2000e+01, 6.0117e+04],\n",
       "       [       nan, 9.0000e+00, 7.2055e+04],\n",
       "       [       nan, 7.0000e+00, 5.0013e+04],\n",
       "       [       nan, 1.5000e+01, 5.0118e+04],\n",
       "       [       nan, 1.1000e+01, 7.2318e+04],\n",
       "       [       nan, 1.0000e+01, 5.3828e+04],\n",
       "       [       nan, 7.0000e+00, 5.8362e+04],\n",
       "       [       nan, 1.3000e+01, 6.3391e+04],\n",
       "       [       nan, 9.0000e+00, 6.2983e+04],\n",
       "       [       nan, 8.0000e+00, 6.5939e+04],\n",
       "       [       nan, 1.2000e+01, 5.1715e+04],\n",
       "       [       nan, 9.0000e+00, 5.4250e+04],\n",
       "       [       nan, 1.2000e+01, 5.0462e+04],\n",
       "       [       nan, 1.5000e+01, 6.4418e+04],\n",
       "       [       nan, 1.4000e+01, 6.0164e+04],\n",
       "       [       nan, 1.0000e+01, 6.6528e+04],\n",
       "       [       nan, 8.0000e+00, 5.7278e+04],\n",
       "       [       nan, 1.2000e+01, 7.1607e+04],\n",
       "       [       nan, 1.5000e+01, 6.1222e+04],\n",
       "       [3.8000e+01, 1.4000e+01, 6.8388e+04],\n",
       "       [4.1000e+01, 2.5000e+01, 9.4704e+04],\n",
       "       [4.4000e+01, 1.7000e+01, 8.9493e+04],\n",
       "       [4.1000e+01, 1.7000e+01, 9.4310e+04],\n",
       "       [5.0000e+01, 2.1000e+01, 8.1615e+04],\n",
       "       [4.7000e+01, 1.9000e+01, 8.4306e+04],\n",
       "       [4.3000e+01, 2.5000e+01, 7.7452e+04],\n",
       "       [4.8000e+01, 2.5000e+01, 7.6904e+04],\n",
       "       [4.6000e+01, 2.2000e+01, 9.0798e+04],\n",
       "       [4.4000e+01, 1.6000e+01, 8.6261e+04],\n",
       "       [4.2000e+01, 2.1000e+01, 7.8332e+04],\n",
       "       [4.4000e+01, 1.9000e+01, 8.4881e+04],\n",
       "       [4.9000e+01, 1.6000e+01, 7.6528e+04],\n",
       "       [4.4000e+01, 1.8000e+01, 8.3524e+04],\n",
       "       [4.9000e+01, 2.2000e+01, 8.9258e+04],\n",
       "       [4.4000e+01, 1.7000e+01, 7.5431e+04],\n",
       "       [4.8000e+01, 1.6000e+01, 9.1870e+04],\n",
       "       [4.7000e+01, 2.3000e+01, 7.6708e+04],\n",
       "       [5.0000e+01, 2.2000e+01, 9.5222e+04],\n",
       "       [4.2000e+01, 1.9000e+01, 9.0802e+04],\n",
       "       [4.8000e+01, 1.9000e+01, 8.6277e+04],\n",
       "       [4.6000e+01, 2.4000e+01, 7.7330e+04],\n",
       "       [4.2000e+01, 2.3000e+01, 8.5286e+04],\n",
       "       [4.5000e+01, 2.2000e+01, 9.0930e+04],\n",
       "       [4.8000e+01, 1.7000e+01, 8.8833e+04],\n",
       "       [4.1000e+01, 2.3000e+01, 9.5908e+04],\n",
       "       [4.9000e+01, 1.9000e+01, 9.2365e+04],\n",
       "       [4.1000e+01, 2.2000e+01, 9.3854e+04],\n",
       "       [4.2000e+01, 2.4000e+01, 8.5336e+04],\n",
       "       [4.1000e+01, 2.2000e+01, 7.9898e+04],\n",
       "       [4.5000e+01, 2.1000e+01, 8.4708e+04],\n",
       "       [4.3000e+01, 1.6000e+01, 8.8381e+04],\n",
       "       [4.6000e+01, 1.8000e+01, 9.3206e+04],\n",
       "       [4.7000e+01, 2.0000e+01, 9.1795e+04],\n",
       "       [4.5000e+01, 1.7000e+01, 9.6432e+04],\n",
       "       [4.2000e+01, 1.7000e+01, 8.3300e+04],\n",
       "       [4.4000e+01, 2.1000e+01, 9.4778e+04],\n",
       "       [4.5000e+01, 1.9000e+01, 8.2283e+04],\n",
       "       [4.4000e+01, 2.1000e+01, 9.7056e+04],\n",
       "       [4.7000e+01, 2.0000e+01, 8.7654e+04],\n",
       "       [4.4000e+01, 1.9000e+01, 8.9875e+04],\n",
       "       [4.4000e+01, 1.8000e+01, 9.8180e+04],\n",
       "       [4.1000e+01, 1.7000e+01, 8.4185e+04],\n",
       "       [4.8000e+01, 2.1000e+01, 7.9509e+04],\n",
       "       [4.8000e+01, 2.2000e+01, 9.7990e+04],\n",
       "       [4.7000e+01, 2.2000e+01, 7.9077e+04],\n",
       "       [4.6000e+01, 2.0000e+01, 8.1187e+04],\n",
       "       [4.4000e+01, 1.8000e+01, 8.3847e+04],\n",
       "       [4.7000e+01, 2.2000e+01, 8.9158e+04],\n",
       "       [4.4000e+01, 2.1000e+01, 9.1645e+04]])"
      ]
     },
     "execution_count": 25,
     "metadata": {},
     "output_type": "execute_result"
    }
   ],
   "source": [
    "x = mydata.iloc[:,4:].values"
   ]
  },
  {
   "cell_type": "code",
   "execution_count": 26,
   "id": "153eab29",
   "metadata": {},
   "outputs": [],
   "source": [
    "from sklearn.impute import SimpleImputer\n",
    "simple_imputer = SimpleImputer(missing_values=np.nan, strategy='mean')\n",
    "x = simple_imputer.fit_transform(x)"
   ]
  },
  {
   "cell_type": "code",
   "execution_count": 28,
   "id": "10f90dbb",
   "metadata": {},
   "outputs": [
    {
     "data": {
      "text/plain": [
       "0    0\n",
       "1    0\n",
       "2    0\n",
       "dtype: int64"
      ]
     },
     "execution_count": 28,
     "metadata": {},
     "output_type": "execute_result"
    }
   ],
   "source": [
    "pd.DataFrame(x).isnull().sum()"
   ]
  },
  {
   "cell_type": "markdown",
   "id": "9be64063",
   "metadata": {},
   "source": [
    "# Encoding"
   ]
  },
  {
   "cell_type": "code",
   "execution_count": 29,
   "id": "3664bd21",
   "metadata": {},
   "outputs": [
    {
     "data": {
      "text/html": [
       "<div>\n",
       "<style scoped>\n",
       "    .dataframe tbody tr th:only-of-type {\n",
       "        vertical-align: middle;\n",
       "    }\n",
       "\n",
       "    .dataframe tbody tr th {\n",
       "        vertical-align: top;\n",
       "    }\n",
       "\n",
       "    .dataframe thead th {\n",
       "        text-align: right;\n",
       "    }\n",
       "</style>\n",
       "<table border=\"1\" class=\"dataframe\">\n",
       "  <thead>\n",
       "    <tr style=\"text-align: right;\">\n",
       "      <th></th>\n",
       "      <th>Employee Id</th>\n",
       "      <th>First Name</th>\n",
       "      <th>Last Name</th>\n",
       "      <th>Department</th>\n",
       "      <th>Age</th>\n",
       "      <th>Experience</th>\n",
       "      <th>Salary</th>\n",
       "    </tr>\n",
       "  </thead>\n",
       "  <tbody>\n",
       "    <tr>\n",
       "      <th>0</th>\n",
       "      <td>1</td>\n",
       "      <td>Joy</td>\n",
       "      <td>Bass</td>\n",
       "      <td>Sales and Marketing</td>\n",
       "      <td>28.0</td>\n",
       "      <td>3.0</td>\n",
       "      <td>32889</td>\n",
       "    </tr>\n",
       "    <tr>\n",
       "      <th>1</th>\n",
       "      <td>2</td>\n",
       "      <td>Sheila</td>\n",
       "      <td>Garza</td>\n",
       "      <td>Sales and Marketing</td>\n",
       "      <td>22.0</td>\n",
       "      <td>1.0</td>\n",
       "      <td>15944</td>\n",
       "    </tr>\n",
       "    <tr>\n",
       "      <th>2</th>\n",
       "      <td>3</td>\n",
       "      <td>John</td>\n",
       "      <td>Bryant</td>\n",
       "      <td>Customer Relations</td>\n",
       "      <td>22.0</td>\n",
       "      <td>1.0</td>\n",
       "      <td>40343</td>\n",
       "    </tr>\n",
       "    <tr>\n",
       "      <th>3</th>\n",
       "      <td>4</td>\n",
       "      <td>Christian</td>\n",
       "      <td>Farley</td>\n",
       "      <td>Customer Relations</td>\n",
       "      <td>22.0</td>\n",
       "      <td>1.0</td>\n",
       "      <td>19018</td>\n",
       "    </tr>\n",
       "    <tr>\n",
       "      <th>4</th>\n",
       "      <td>5</td>\n",
       "      <td>Colorado</td>\n",
       "      <td>Bowen</td>\n",
       "      <td>Accounting</td>\n",
       "      <td>27.0</td>\n",
       "      <td>0.0</td>\n",
       "      <td>24795</td>\n",
       "    </tr>\n",
       "  </tbody>\n",
       "</table>\n",
       "</div>"
      ],
      "text/plain": [
       "   Employee Id First Name Last Name           Department   Age  Experience  \\\n",
       "0            1        Joy      Bass  Sales and Marketing  28.0         3.0   \n",
       "1            2     Sheila     Garza  Sales and Marketing  22.0         1.0   \n",
       "2            3       John    Bryant   Customer Relations  22.0         1.0   \n",
       "3            4  Christian    Farley   Customer Relations  22.0         1.0   \n",
       "4            5   Colorado     Bowen           Accounting  27.0         0.0   \n",
       "\n",
       "   Salary  \n",
       "0   32889  \n",
       "1   15944  \n",
       "2   40343  \n",
       "3   19018  \n",
       "4   24795  "
      ]
     },
     "execution_count": 29,
     "metadata": {},
     "output_type": "execute_result"
    }
   ],
   "source": [
    "df.head()"
   ]
  },
  {
   "cell_type": "code",
   "execution_count": 30,
   "id": "7a0c0b47",
   "metadata": {},
   "outputs": [],
   "source": [
    "df_1 = df.iloc[:,3:]"
   ]
  },
  {
   "cell_type": "code",
   "execution_count": 31,
   "id": "45a3ceb6",
   "metadata": {},
   "outputs": [
    {
     "data": {
      "text/html": [
       "<div>\n",
       "<style scoped>\n",
       "    .dataframe tbody tr th:only-of-type {\n",
       "        vertical-align: middle;\n",
       "    }\n",
       "\n",
       "    .dataframe tbody tr th {\n",
       "        vertical-align: top;\n",
       "    }\n",
       "\n",
       "    .dataframe thead th {\n",
       "        text-align: right;\n",
       "    }\n",
       "</style>\n",
       "<table border=\"1\" class=\"dataframe\">\n",
       "  <thead>\n",
       "    <tr style=\"text-align: right;\">\n",
       "      <th></th>\n",
       "      <th>Department</th>\n",
       "      <th>Age</th>\n",
       "      <th>Experience</th>\n",
       "      <th>Salary</th>\n",
       "    </tr>\n",
       "  </thead>\n",
       "  <tbody>\n",
       "    <tr>\n",
       "      <th>0</th>\n",
       "      <td>Sales and Marketing</td>\n",
       "      <td>28.0</td>\n",
       "      <td>3.0</td>\n",
       "      <td>32889</td>\n",
       "    </tr>\n",
       "    <tr>\n",
       "      <th>1</th>\n",
       "      <td>Sales and Marketing</td>\n",
       "      <td>22.0</td>\n",
       "      <td>1.0</td>\n",
       "      <td>15944</td>\n",
       "    </tr>\n",
       "    <tr>\n",
       "      <th>2</th>\n",
       "      <td>Customer Relations</td>\n",
       "      <td>22.0</td>\n",
       "      <td>1.0</td>\n",
       "      <td>40343</td>\n",
       "    </tr>\n",
       "    <tr>\n",
       "      <th>3</th>\n",
       "      <td>Customer Relations</td>\n",
       "      <td>22.0</td>\n",
       "      <td>1.0</td>\n",
       "      <td>19018</td>\n",
       "    </tr>\n",
       "    <tr>\n",
       "      <th>4</th>\n",
       "      <td>Accounting</td>\n",
       "      <td>27.0</td>\n",
       "      <td>0.0</td>\n",
       "      <td>24795</td>\n",
       "    </tr>\n",
       "  </tbody>\n",
       "</table>\n",
       "</div>"
      ],
      "text/plain": [
       "            Department   Age  Experience  Salary\n",
       "0  Sales and Marketing  28.0         3.0   32889\n",
       "1  Sales and Marketing  22.0         1.0   15944\n",
       "2   Customer Relations  22.0         1.0   40343\n",
       "3   Customer Relations  22.0         1.0   19018\n",
       "4           Accounting  27.0         0.0   24795"
      ]
     },
     "execution_count": 31,
     "metadata": {},
     "output_type": "execute_result"
    }
   ],
   "source": [
    "df_1.head()"
   ]
  },
  {
   "cell_type": "code",
   "execution_count": 35,
   "id": "0161811f",
   "metadata": {},
   "outputs": [
    {
     "data": {
      "text/plain": [
       "Department     0\n",
       "Age            0\n",
       "Experience    10\n",
       "Salary         0\n",
       "dtype: int64"
      ]
     },
     "execution_count": 35,
     "metadata": {},
     "output_type": "execute_result"
    }
   ],
   "source": [
    "df_1.isnull().sum()"
   ]
  },
  {
   "cell_type": "code",
   "execution_count": 36,
   "id": "b824c04f",
   "metadata": {},
   "outputs": [],
   "source": [
    "df_1['Experience'] = df_1['Experience'].fillna(df_1['Experience'].mean())"
   ]
  },
  {
   "cell_type": "code",
   "execution_count": 38,
   "id": "298a4430",
   "metadata": {},
   "outputs": [
    {
     "data": {
      "text/plain": [
       "Department    0\n",
       "Age           0\n",
       "Experience    0\n",
       "Salary        0\n",
       "dtype: int64"
      ]
     },
     "execution_count": 38,
     "metadata": {},
     "output_type": "execute_result"
    }
   ],
   "source": [
    "df_1.isnull().sum()"
   ]
  },
  {
   "cell_type": "code",
   "execution_count": 39,
   "id": "e6a388f3",
   "metadata": {},
   "outputs": [
    {
     "data": {
      "text/plain": [
       "Sales and Marketing    49\n",
       "Accounting             27\n",
       "Customer Relations     24\n",
       "Name: Department, dtype: int64"
      ]
     },
     "execution_count": 39,
     "metadata": {},
     "output_type": "execute_result"
    }
   ],
   "source": [
    "df_1['Department'].value_counts()"
   ]
  },
  {
   "cell_type": "code",
   "execution_count": 40,
   "id": "03b828c4",
   "metadata": {},
   "outputs": [],
   "source": [
    "# Label Encoder\n",
    "df_1['Department'] = df_1['Department'].astype('category')\n",
    "df_1['Department'] = df_1['Department'].cat.codes"
   ]
  },
  {
   "cell_type": "code",
   "execution_count": 42,
   "id": "2122be2a",
   "metadata": {},
   "outputs": [
    {
     "data": {
      "text/html": [
       "<div>\n",
       "<style scoped>\n",
       "    .dataframe tbody tr th:only-of-type {\n",
       "        vertical-align: middle;\n",
       "    }\n",
       "\n",
       "    .dataframe tbody tr th {\n",
       "        vertical-align: top;\n",
       "    }\n",
       "\n",
       "    .dataframe thead th {\n",
       "        text-align: right;\n",
       "    }\n",
       "</style>\n",
       "<table border=\"1\" class=\"dataframe\">\n",
       "  <thead>\n",
       "    <tr style=\"text-align: right;\">\n",
       "      <th></th>\n",
       "      <th>Department</th>\n",
       "      <th>Age</th>\n",
       "      <th>Experience</th>\n",
       "      <th>Salary</th>\n",
       "    </tr>\n",
       "  </thead>\n",
       "  <tbody>\n",
       "    <tr>\n",
       "      <th>0</th>\n",
       "      <td>2</td>\n",
       "      <td>28.0</td>\n",
       "      <td>3.0</td>\n",
       "      <td>32889</td>\n",
       "    </tr>\n",
       "    <tr>\n",
       "      <th>1</th>\n",
       "      <td>2</td>\n",
       "      <td>22.0</td>\n",
       "      <td>1.0</td>\n",
       "      <td>15944</td>\n",
       "    </tr>\n",
       "    <tr>\n",
       "      <th>2</th>\n",
       "      <td>1</td>\n",
       "      <td>22.0</td>\n",
       "      <td>1.0</td>\n",
       "      <td>40343</td>\n",
       "    </tr>\n",
       "    <tr>\n",
       "      <th>3</th>\n",
       "      <td>1</td>\n",
       "      <td>22.0</td>\n",
       "      <td>1.0</td>\n",
       "      <td>19018</td>\n",
       "    </tr>\n",
       "    <tr>\n",
       "      <th>4</th>\n",
       "      <td>0</td>\n",
       "      <td>27.0</td>\n",
       "      <td>0.0</td>\n",
       "      <td>24795</td>\n",
       "    </tr>\n",
       "  </tbody>\n",
       "</table>\n",
       "</div>"
      ],
      "text/plain": [
       "   Department   Age  Experience  Salary\n",
       "0           2  28.0         3.0   32889\n",
       "1           2  22.0         1.0   15944\n",
       "2           1  22.0         1.0   40343\n",
       "3           1  22.0         1.0   19018\n",
       "4           0  27.0         0.0   24795"
      ]
     },
     "execution_count": 42,
     "metadata": {},
     "output_type": "execute_result"
    }
   ],
   "source": [
    "df_1.head()"
   ]
  },
  {
   "cell_type": "code",
   "execution_count": 44,
   "id": "65989746",
   "metadata": {},
   "outputs": [],
   "source": [
    "# One Hot Encoder\n",
    "df_1 = pd.get_dummies(df_1, columns=['Department'])"
   ]
  },
  {
   "cell_type": "code",
   "execution_count": 45,
   "id": "f7ce5c96",
   "metadata": {},
   "outputs": [
    {
     "data": {
      "text/html": [
       "<div>\n",
       "<style scoped>\n",
       "    .dataframe tbody tr th:only-of-type {\n",
       "        vertical-align: middle;\n",
       "    }\n",
       "\n",
       "    .dataframe tbody tr th {\n",
       "        vertical-align: top;\n",
       "    }\n",
       "\n",
       "    .dataframe thead th {\n",
       "        text-align: right;\n",
       "    }\n",
       "</style>\n",
       "<table border=\"1\" class=\"dataframe\">\n",
       "  <thead>\n",
       "    <tr style=\"text-align: right;\">\n",
       "      <th></th>\n",
       "      <th>Age</th>\n",
       "      <th>Experience</th>\n",
       "      <th>Salary</th>\n",
       "      <th>Department_0</th>\n",
       "      <th>Department_1</th>\n",
       "      <th>Department_2</th>\n",
       "    </tr>\n",
       "  </thead>\n",
       "  <tbody>\n",
       "    <tr>\n",
       "      <th>0</th>\n",
       "      <td>28.0</td>\n",
       "      <td>3.0</td>\n",
       "      <td>32889</td>\n",
       "      <td>0</td>\n",
       "      <td>0</td>\n",
       "      <td>1</td>\n",
       "    </tr>\n",
       "    <tr>\n",
       "      <th>1</th>\n",
       "      <td>22.0</td>\n",
       "      <td>1.0</td>\n",
       "      <td>15944</td>\n",
       "      <td>0</td>\n",
       "      <td>0</td>\n",
       "      <td>1</td>\n",
       "    </tr>\n",
       "    <tr>\n",
       "      <th>2</th>\n",
       "      <td>22.0</td>\n",
       "      <td>1.0</td>\n",
       "      <td>40343</td>\n",
       "      <td>0</td>\n",
       "      <td>1</td>\n",
       "      <td>0</td>\n",
       "    </tr>\n",
       "    <tr>\n",
       "      <th>3</th>\n",
       "      <td>22.0</td>\n",
       "      <td>1.0</td>\n",
       "      <td>19018</td>\n",
       "      <td>0</td>\n",
       "      <td>1</td>\n",
       "      <td>0</td>\n",
       "    </tr>\n",
       "    <tr>\n",
       "      <th>4</th>\n",
       "      <td>27.0</td>\n",
       "      <td>0.0</td>\n",
       "      <td>24795</td>\n",
       "      <td>1</td>\n",
       "      <td>0</td>\n",
       "      <td>0</td>\n",
       "    </tr>\n",
       "    <tr>\n",
       "      <th>...</th>\n",
       "      <td>...</td>\n",
       "      <td>...</td>\n",
       "      <td>...</td>\n",
       "      <td>...</td>\n",
       "      <td>...</td>\n",
       "      <td>...</td>\n",
       "    </tr>\n",
       "    <tr>\n",
       "      <th>95</th>\n",
       "      <td>47.0</td>\n",
       "      <td>22.0</td>\n",
       "      <td>79077</td>\n",
       "      <td>0</td>\n",
       "      <td>0</td>\n",
       "      <td>1</td>\n",
       "    </tr>\n",
       "    <tr>\n",
       "      <th>96</th>\n",
       "      <td>46.0</td>\n",
       "      <td>20.0</td>\n",
       "      <td>81187</td>\n",
       "      <td>0</td>\n",
       "      <td>0</td>\n",
       "      <td>1</td>\n",
       "    </tr>\n",
       "    <tr>\n",
       "      <th>97</th>\n",
       "      <td>44.0</td>\n",
       "      <td>18.0</td>\n",
       "      <td>83847</td>\n",
       "      <td>0</td>\n",
       "      <td>1</td>\n",
       "      <td>0</td>\n",
       "    </tr>\n",
       "    <tr>\n",
       "      <th>98</th>\n",
       "      <td>47.0</td>\n",
       "      <td>22.0</td>\n",
       "      <td>89158</td>\n",
       "      <td>0</td>\n",
       "      <td>1</td>\n",
       "      <td>0</td>\n",
       "    </tr>\n",
       "    <tr>\n",
       "      <th>99</th>\n",
       "      <td>44.0</td>\n",
       "      <td>21.0</td>\n",
       "      <td>91645</td>\n",
       "      <td>1</td>\n",
       "      <td>0</td>\n",
       "      <td>0</td>\n",
       "    </tr>\n",
       "  </tbody>\n",
       "</table>\n",
       "<p>100 rows × 6 columns</p>\n",
       "</div>"
      ],
      "text/plain": [
       "     Age  Experience  Salary  Department_0  Department_1  Department_2\n",
       "0   28.0         3.0   32889             0             0             1\n",
       "1   22.0         1.0   15944             0             0             1\n",
       "2   22.0         1.0   40343             0             1             0\n",
       "3   22.0         1.0   19018             0             1             0\n",
       "4   27.0         0.0   24795             1             0             0\n",
       "..   ...         ...     ...           ...           ...           ...\n",
       "95  47.0        22.0   79077             0             0             1\n",
       "96  46.0        20.0   81187             0             0             1\n",
       "97  44.0        18.0   83847             0             1             0\n",
       "98  47.0        22.0   89158             0             1             0\n",
       "99  44.0        21.0   91645             1             0             0\n",
       "\n",
       "[100 rows x 6 columns]"
      ]
     },
     "execution_count": 45,
     "metadata": {},
     "output_type": "execute_result"
    }
   ],
   "source": [
    "df_1"
   ]
  },
  {
   "cell_type": "code",
   "execution_count": 46,
   "id": "c6619e55",
   "metadata": {},
   "outputs": [],
   "source": [
    "# Dummy variable\n",
    "df_1 = df_1.drop(['Department_1'], axis=1)"
   ]
  },
  {
   "cell_type": "code",
   "execution_count": 47,
   "id": "4795b5ba",
   "metadata": {},
   "outputs": [],
   "source": [
    "# Feature Scaling\n"
   ]
  },
  {
   "cell_type": "code",
   "execution_count": 49,
   "id": "f904129e",
   "metadata": {},
   "outputs": [],
   "source": [
    "# Standerdaisation\n",
    "from sklearn.preprocessing import StandardScaler\n",
    "sc_x= StandardScaler()\n",
    "sc_fc= sc_x.fit_transform(df_1)"
   ]
  },
  {
   "cell_type": "code",
   "execution_count": 50,
   "id": "a1bdfc20",
   "metadata": {},
   "outputs": [
    {
     "data": {
      "text/plain": [
       "array([[-1.16485118e+00, -1.81044925e+00, -1.23482325e+00,\n",
       "        -6.08163641e-01,  1.02020406e+00],\n",
       "       [-1.86547071e+00, -2.11817433e+00, -1.88508853e+00,\n",
       "        -6.08163641e-01,  1.02020406e+00],\n",
       "       [-1.86547071e+00, -2.11817433e+00, -9.48775604e-01,\n",
       "        -6.08163641e-01, -9.80196059e-01],\n",
       "       [-1.86547071e+00, -2.11817433e+00, -1.76712361e+00,\n",
       "        -6.08163641e-01, -9.80196059e-01],\n",
       "       [-1.28162110e+00, -2.27203688e+00, -1.54543093e+00,\n",
       "         1.64429429e+00, -9.80196059e-01],\n",
       "       [-1.39839102e+00, -1.50272416e+00, -1.90646343e+00,\n",
       "         1.64429429e+00, -9.80196059e-01],\n",
       "       [-1.63193087e+00, -1.34886162e+00, -1.18769869e+00,\n",
       "        -6.08163641e-01, -9.80196059e-01],\n",
       "       [-1.04808125e+00, -1.96431179e+00, -1.87914039e+00,\n",
       "        -6.08163641e-01, -9.80196059e-01],\n",
       "       [-1.04808125e+00, -1.50272416e+00, -8.81158761e-01,\n",
       "        -6.08163641e-01,  1.02020406e+00],\n",
       "       [-9.31311332e-01, -1.34886162e+00, -2.04062262e+00,\n",
       "        -6.08163641e-01, -9.80196059e-01],\n",
       "       [-1.39839102e+00, -1.50272416e+00, -1.16582491e+00,\n",
       "         1.64429429e+00, -9.80196059e-01],\n",
       "       [-1.39839102e+00, -1.34886162e+00, -1.59324625e+00,\n",
       "        -6.08163641e-01,  1.02020406e+00],\n",
       "       [-1.63193087e+00, -1.50272416e+00, -1.37984258e+00,\n",
       "         1.64429429e+00, -9.80196059e-01],\n",
       "       [-1.86547071e+00, -1.96431179e+00, -1.21387047e+00,\n",
       "         1.64429429e+00, -9.80196059e-01],\n",
       "       [-1.51516094e+00, -1.81044925e+00, -2.04296350e+00,\n",
       "        -6.08163641e-01,  1.02020406e+00],\n",
       "       [-1.51516094e+00,  2.73314780e-16, -8.05943657e-01,\n",
       "         1.64429429e+00, -9.80196059e-01],\n",
       "       [-1.86547071e+00,  2.73314780e-16, -1.98785692e+00,\n",
       "        -6.08163641e-01, -9.80196059e-01],\n",
       "       [-1.51516094e+00,  2.73314780e-16, -1.85872487e+00,\n",
       "         1.64429429e+00, -9.80196059e-01],\n",
       "       [-1.28162110e+00,  2.73314780e-16, -1.35006354e+00,\n",
       "         1.64429429e+00, -9.80196059e-01],\n",
       "       [-1.51516094e+00,  2.73314780e-16, -1.32788275e+00,\n",
       "        -6.08163641e-01,  1.02020406e+00],\n",
       "       [-1.86547071e+00,  2.73314780e-16, -1.92350195e+00,\n",
       "        -6.08163641e-01,  1.02020406e+00],\n",
       "       [-1.86547071e+00,  2.73314780e-16, -1.78193638e+00,\n",
       "        -6.08163641e-01,  1.02020406e+00],\n",
       "       [-1.63193087e+00,  2.73314780e-16, -1.03166572e+00,\n",
       "        -6.08163641e-01,  1.02020406e+00],\n",
       "       [-1.28162110e+00,  2.73314780e-16, -8.43244208e-01,\n",
       "        -6.08163641e-01,  1.02020406e+00],\n",
       "       [-1.86547071e+00,  2.73314780e-16, -1.47720009e+00,\n",
       "        -6.08163641e-01,  1.02020406e+00],\n",
       "       [-5.81001565e-01, -2.71823825e-01, -5.31063151e-01,\n",
       "        -6.08163641e-01,  1.02020406e+00],\n",
       "       [-2.30691798e-01, -1.19499908e+00, -2.74948046e-01,\n",
       "        -6.08163641e-01,  1.02020406e+00],\n",
       "       [-3.47461720e-01, -7.33411452e-01, -4.15746116e-01,\n",
       "        -6.08163641e-01,  1.02020406e+00],\n",
       "       [-5.81001565e-01, -4.25686367e-01,  1.89697098e-01,\n",
       "        -6.08163641e-01,  1.02020406e+00],\n",
       "       [-9.31311332e-01, -1.17961283e-01,  3.69023721e-01,\n",
       "        -6.08163641e-01,  1.02020406e+00],\n",
       "       [ 2.36387892e-01,  3.59012599e-02, -4.29791385e-01,\n",
       "        -6.08163641e-01,  1.02020406e+00],\n",
       "       [ 1.19617969e-01, -4.25686367e-01, -1.89947303e-01,\n",
       "        -6.08163641e-01,  1.02020406e+00],\n",
       "       [ 8.29700201e-16, -8.87273995e-01,  2.68174082e-01,\n",
       "        -6.08163641e-01,  1.02020406e+00],\n",
       "       [ 8.29700201e-16, -1.19499908e+00, -5.77688840e-01,\n",
       "        -6.08163641e-01,  1.02020406e+00],\n",
       "       [ 8.29700201e-16,  3.59012599e-02, -5.73659460e-01,\n",
       "        -6.08163641e-01,  1.02020406e+00],\n",
       "       [ 8.29700201e-16, -5.79548910e-01,  2.78266721e-01,\n",
       "        -6.08163641e-01,  1.02020406e+00],\n",
       "       [ 8.29700201e-16, -7.33411452e-01, -4.31288013e-01,\n",
       "        -6.08163641e-01,  1.02020406e+00],\n",
       "       [ 8.29700201e-16, -1.19499908e+00, -2.57295521e-01,\n",
       "        -6.08163641e-01,  1.02020406e+00],\n",
       "       [ 8.29700201e-16, -2.71823825e-01, -6.43073791e-02,\n",
       "        -6.08163641e-01,  1.02020406e+00],\n",
       "       [ 8.29700201e-16, -8.87273995e-01, -7.99644008e-02,\n",
       "        -6.08163641e-01,  1.02020406e+00],\n",
       "       [ 8.29700201e-16, -1.04113654e+00,  3.34722564e-02,\n",
       "        -6.08163641e-01, -9.80196059e-01],\n",
       "       [ 8.29700201e-16, -4.25686367e-01, -5.12374500e-01,\n",
       "         1.64429429e+00, -9.80196059e-01],\n",
       "       [ 8.29700201e-16, -8.87273995e-01, -4.15093740e-01,\n",
       "         1.64429429e+00, -9.80196059e-01],\n",
       "       [ 8.29700201e-16, -4.25686367e-01, -5.60458441e-01,\n",
       "        -6.08163641e-01,  1.02020406e+00],\n",
       "       [ 8.29700201e-16,  3.59012599e-02, -2.48961995e-02,\n",
       "        -6.08163641e-01,  1.02020406e+00],\n",
       "       [ 8.29700201e-16, -1.17961283e-01, -1.88143676e-01,\n",
       "        -6.08163641e-01, -9.80196059e-01],\n",
       "       [ 8.29700201e-16, -7.33411452e-01,  5.60751627e-02,\n",
       "        -6.08163641e-01,  1.02020406e+00],\n",
       "       [ 8.29700201e-16, -1.04113654e+00, -2.98894079e-01,\n",
       "        -6.08163641e-01, -9.80196059e-01],\n",
       "       [ 8.29700201e-16, -4.25686367e-01,  2.50982058e-01,\n",
       "        -6.08163641e-01, -9.80196059e-01],\n",
       "       [ 8.29700201e-16,  3.59012599e-02, -1.47542869e-01,\n",
       "        -6.08163641e-01, -9.80196059e-01],\n",
       "       [ 2.84804689e-03, -1.17961283e-01,  1.27452762e-01,\n",
       "        -6.08163641e-01,  1.02020406e+00],\n",
       "       [ 3.53157814e-01,  1.57452668e+00,  1.13733066e+00,\n",
       "         1.64429429e+00, -9.80196059e-01],\n",
       "       [ 7.03467581e-01,  3.43626345e-01,  9.37358259e-01,\n",
       "        -6.08163641e-01, -9.80196059e-01],\n",
       "       [ 3.53157814e-01,  3.43626345e-01,  1.12221089e+00,\n",
       "         1.64429429e+00, -9.80196059e-01],\n",
       "       [ 1.40408712e+00,  9.59076515e-01,  6.35039590e-01,\n",
       "        -6.08163641e-01,  1.02020406e+00],\n",
       "       [ 1.05377735e+00,  6.51351430e-01,  7.38306858e-01,\n",
       "        -6.08163641e-01,  1.02020406e+00],\n",
       "       [ 5.86697659e-01,  1.57452668e+00,  4.75284243e-01,\n",
       "         1.64429429e+00, -9.80196059e-01],\n",
       "       [ 1.17054727e+00,  1.57452668e+00,  4.54254714e-01,\n",
       "        -6.08163641e-01, -9.80196059e-01],\n",
       "       [ 9.37007426e-01,  1.11293906e+00,  9.87437703e-01,\n",
       "         1.64429429e+00, -9.80196059e-01],\n",
       "       [ 7.03467581e-01,  1.89763802e-01,  8.13330087e-01,\n",
       "        -6.08163641e-01, -9.80196059e-01],\n",
       "       [ 4.69927736e-01,  9.59076515e-01,  5.09054290e-01,\n",
       "         1.64429429e+00, -9.80196059e-01],\n",
       "       [ 7.03467581e-01,  6.51351430e-01,  7.60372513e-01,\n",
       "        -6.08163641e-01,  1.02020406e+00],\n",
       "       [ 1.28731719e+00,  1.89763802e-01,  4.39825694e-01,\n",
       "        -6.08163641e-01, -9.80196059e-01],\n",
       "       [ 7.03467581e-01,  4.97488887e-01,  7.08297566e-01,\n",
       "        -6.08163641e-01, -9.80196059e-01],\n",
       "       [ 1.28731719e+00,  1.11293906e+00,  9.28340121e-01,\n",
       "        -6.08163641e-01,  1.02020406e+00],\n",
       "       [ 7.03467581e-01,  3.43626345e-01,  3.97728261e-01,\n",
       "         1.64429429e+00, -9.80196059e-01],\n",
       "       [ 1.17054727e+00,  1.89763802e-01,  1.02857576e+00,\n",
       "        -6.08163641e-01,  1.02020406e+00],\n",
       "       [ 1.05377735e+00,  1.26680160e+00,  4.46733204e-01,\n",
       "        -6.08163641e-01, -9.80196059e-01],\n",
       "       [ 1.40408712e+00,  1.11293906e+00,  1.15720894e+00,\n",
       "        -6.08163641e-01, -9.80196059e-01],\n",
       "       [ 4.69927736e-01,  6.51351430e-01,  9.87591203e-01,\n",
       "        -6.08163641e-01,  1.02020406e+00],\n",
       "       [ 1.17054727e+00,  6.51351430e-01,  8.13944088e-01,\n",
       "         1.64429429e+00, -9.80196059e-01],\n",
       "       [ 9.37007426e-01,  1.42066414e+00,  4.70602487e-01,\n",
       "        -6.08163641e-01, -9.80196059e-01],\n",
       "       [ 4.69927736e-01,  1.26680160e+00,  7.75914410e-01,\n",
       "        -6.08163641e-01,  1.02020406e+00],\n",
       "       [ 8.20237504e-01,  1.11293906e+00,  9.92503210e-01,\n",
       "        -6.08163641e-01,  1.02020406e+00],\n",
       "       [ 1.17054727e+00,  3.43626345e-01,  9.12030724e-01,\n",
       "        -6.08163641e-01, -9.80196059e-01],\n",
       "       [ 3.53157814e-01,  1.26680160e+00,  1.18353422e+00,\n",
       "        -6.08163641e-01,  1.02020406e+00],\n",
       "       [ 1.28731719e+00,  6.51351430e-01,  1.04757141e+00,\n",
       "        -6.08163641e-01,  1.02020406e+00],\n",
       "       [ 3.53157814e-01,  1.11293906e+00,  1.10471187e+00,\n",
       "        -6.08163641e-01,  1.02020406e+00],\n",
       "       [ 4.69927736e-01,  1.42066414e+00,  7.77833163e-01,\n",
       "        -6.08163641e-01,  1.02020406e+00],\n",
       "       [ 3.53157814e-01,  1.11293906e+00,  5.69149623e-01,\n",
       "         1.64429429e+00, -9.80196059e-01],\n",
       "       [ 8.20237504e-01,  9.59076515e-01,  7.53733629e-01,\n",
       "         1.64429429e+00, -9.80196059e-01],\n",
       "       [ 5.86697659e-01,  1.89763802e-01,  8.94685199e-01,\n",
       "        -6.08163641e-01, -9.80196059e-01],\n",
       "       [ 9.37007426e-01,  4.97488887e-01,  1.07984483e+00,\n",
       "         1.64429429e+00, -9.80196059e-01],\n",
       "       [ 1.05377735e+00,  8.05213972e-01,  1.02569763e+00,\n",
       "        -6.08163641e-01,  1.02020406e+00],\n",
       "       [ 8.20237504e-01,  3.43626345e-01,  1.20364275e+00,\n",
       "         1.64429429e+00, -9.80196059e-01],\n",
       "       [ 4.69927736e-01,  3.43626345e-01,  6.99701554e-01,\n",
       "        -6.08163641e-01,  1.02020406e+00],\n",
       "       [ 7.03467581e-01,  9.59076515e-01,  1.14017041e+00,\n",
       "        -6.08163641e-01,  1.02020406e+00],\n",
       "       [ 8.20237504e-01,  6.51351430e-01,  6.60674125e-01,\n",
       "         1.64429429e+00, -9.80196059e-01],\n",
       "       [ 7.03467581e-01,  9.59076515e-01,  1.22758879e+00,\n",
       "         1.64429429e+00, -9.80196059e-01],\n",
       "       [ 1.05377735e+00,  8.05213972e-01,  8.66786536e-01,\n",
       "        -6.08163641e-01, -9.80196059e-01],\n",
       "       [ 7.03467581e-01,  6.51351430e-01,  9.52017529e-01,\n",
       "        -6.08163641e-01,  1.02020406e+00],\n",
       "       [ 7.03467581e-01,  4.97488887e-01,  1.27072235e+00,\n",
       "         1.64429429e+00, -9.80196059e-01],\n",
       "       [ 3.53157814e-01,  3.43626345e-01,  7.33663476e-01,\n",
       "        -6.08163641e-01,  1.02020406e+00],\n",
       "       [ 1.17054727e+00,  9.59076515e-01,  5.54221728e-01,\n",
       "         1.64429429e+00, -9.80196059e-01],\n",
       "       [ 1.17054727e+00,  1.11293906e+00,  1.26343109e+00,\n",
       "         1.64429429e+00, -9.80196059e-01],\n",
       "       [ 1.05377735e+00,  1.11293906e+00,  5.37643705e-01,\n",
       "        -6.08163641e-01,  1.02020406e+00],\n",
       "       [ 9.37007426e-01,  8.05213972e-01,  6.18615067e-01,\n",
       "        -6.08163641e-01,  1.02020406e+00],\n",
       "       [ 7.03467581e-01,  4.97488887e-01,  7.20692708e-01,\n",
       "        -6.08163641e-01, -9.80196059e-01],\n",
       "       [ 1.05377735e+00,  1.11293906e+00,  9.24502616e-01,\n",
       "        -6.08163641e-01, -9.80196059e-01],\n",
       "       [ 7.03467581e-01,  9.59076515e-01,  1.01994137e+00,\n",
       "         1.64429429e+00, -9.80196059e-01]])"
      ]
     },
     "execution_count": 50,
     "metadata": {},
     "output_type": "execute_result"
    }
   ],
   "source": [
    "sc_fc"
   ]
  },
  {
   "cell_type": "code",
   "execution_count": 51,
   "id": "9323ff04",
   "metadata": {},
   "outputs": [
    {
     "data": {
      "text/plain": [
       "array([[8.51348163e-04, 9.12158746e-05, 9.99999633e-01, 0.00000000e+00,\n",
       "        3.04052915e-05],\n",
       "       [1.37982808e-03, 6.27194584e-05, 9.99999044e-01, 0.00000000e+00,\n",
       "        6.27194584e-05],\n",
       "       [5.45323767e-04, 2.47874439e-05, 9.99999851e-01, 0.00000000e+00,\n",
       "        0.00000000e+00],\n",
       "       [1.15679805e-03, 5.25817294e-05, 9.99999330e-01, 0.00000000e+00,\n",
       "        0.00000000e+00],\n",
       "       [1.08892857e-03, 0.00000000e+00, 9.99999406e-01, 4.03306879e-05,\n",
       "        0.00000000e+00],\n",
       "       [1.68973559e-03, 3.24949151e-04, 9.99998517e-01, 6.49898302e-05,\n",
       "        0.00000000e+00],\n",
       "       [7.03461432e-04, 1.75865358e-04, 9.99999737e-01, 0.00000000e+00,\n",
       "        0.00000000e+00],\n",
       "       [1.80135118e-03, 1.24231116e-04, 9.99998370e-01, 0.00000000e+00,\n",
       "        0.00000000e+00],\n",
       "       [6.88754136e-04, 1.18750713e-04, 9.99999755e-01, 0.00000000e+00,\n",
       "        2.37501426e-05],\n",
       "       [2.52290814e-03, 5.04581628e-04, 9.99996690e-01, 0.00000000e+00,\n",
       "        0.00000000e+00],\n",
       "       [7.49560135e-04, 1.44146180e-04, 9.99999708e-01, 2.88292360e-05,\n",
       "        0.00000000e+00],\n",
       "       [1.10408014e-03, 2.54787725e-04, 9.99999357e-01, 0.00000000e+00,\n",
       "        4.24646209e-05],\n",
       "       [8.24458656e-04, 1.71762220e-04, 9.99999645e-01, 3.43524440e-05,\n",
       "        0.00000000e+00],\n",
       "       [6.57992977e-04, 5.98175434e-05, 9.99999781e-01, 2.99087717e-05,\n",
       "        0.00000000e+00],\n",
       "       [2.11326655e-03, 2.53591986e-04, 9.99997731e-01, 0.00000000e+00,\n",
       "        8.45306620e-05],\n",
       "       [5.67343574e-04, 3.35110937e-04, 9.99999783e-01, 2.26937429e-05,\n",
       "        0.00000000e+00],\n",
       "       [1.65837148e-03, 1.11311904e-03, 9.99998005e-01, 0.00000000e+00,\n",
       "        0.00000000e+00],\n",
       "       [1.50321459e-03, 8.87898751e-04, 9.99998474e-01, 6.01285836e-05,\n",
       "        0.00000000e+00],\n",
       "       [9.03432566e-04, 4.94099539e-04, 9.99999469e-01, 3.34604654e-05,\n",
       "        0.00000000e+00],\n",
       "       [8.20640383e-04, 4.84724920e-04, 9.99999545e-01, 0.00000000e+00,\n",
       "        3.28256153e-05],\n",
       "       [1.47225894e-03, 9.88198047e-04, 9.99998426e-01, 0.00000000e+00,\n",
       "        6.69208610e-05],\n",
       "       [1.18076308e-03, 7.92542492e-04, 9.99998987e-01, 0.00000000e+00,\n",
       "        5.36710491e-05],\n",
       "       [6.28551802e-04, 3.86733956e-04, 9.99999727e-01, 0.00000000e+00,\n",
       "        2.61896584e-05],\n",
       "       [6.26551716e-04, 3.42669642e-04, 9.99999745e-01, 0.00000000e+00,\n",
       "        2.32056191e-05],\n",
       "       [8.27907615e-04, 5.55701626e-04, 9.99999502e-01, 0.00000000e+00,\n",
       "        3.76321643e-05],\n",
       "       [6.44178810e-04, 2.53767410e-04, 9.99999760e-01, 0.00000000e+00,\n",
       "        1.95205700e-05],\n",
       "       [6.21740057e-04, 1.20893900e-04, 9.99999799e-01, 0.00000000e+00,\n",
       "        1.72705571e-05],\n",
       "       [6.45363379e-04, 1.84389537e-04, 9.99999775e-01, 0.00000000e+00,\n",
       "        1.84389537e-05],\n",
       "       [4.71361175e-04, 1.71404064e-04, 9.99999874e-01, 0.00000000e+00,\n",
       "        1.42836720e-05],\n",
       "       [4.01697803e-04, 1.87458975e-04, 9.99999902e-01, 0.00000000e+00,\n",
       "        1.33899268e-05],\n",
       "       [7.42569429e-04, 2.78463536e-04, 9.99999685e-01, 0.00000000e+00,\n",
       "        1.85642357e-05],\n",
       "       [6.48734817e-04, 1.99610713e-04, 9.99999770e-01, 0.00000000e+00,\n",
       "        1.66342261e-05],\n",
       "       [5.27036350e-04, 1.24904568e-04, 9.99999853e-01, 0.00000000e+00,\n",
       "        1.38782854e-05],\n",
       "       [7.59314547e-04, 1.39963568e-04, 9.99999702e-01, 0.00000000e+00,\n",
       "        1.99947954e-05],\n",
       "       [7.57723715e-04, 2.99293568e-04, 9.99999668e-01, 0.00000000e+00,\n",
       "        1.99529045e-05],\n",
       "       [5.25119667e-04, 1.52105954e-04, 9.99999850e-01, 0.00000000e+00,\n",
       "        1.38278140e-05],\n",
       "       [7.05498990e-04, 1.85776870e-04, 9.99999734e-01, 0.00000000e+00,\n",
       "        1.85776870e-05],\n",
       "       [6.50690542e-04, 1.19941031e-04, 9.99999781e-01, 0.00000000e+00,\n",
       "        1.71344330e-05],\n",
       "       [5.99069302e-04, 2.05076389e-04, 9.99999799e-01, 0.00000000e+00,\n",
       "        1.57751069e-05],\n",
       "       [6.02950041e-04, 1.42895675e-04, 9.99999808e-01, 0.00000000e+00,\n",
       "        1.58772972e-05],\n",
       "       [5.75920217e-04, 1.21324233e-04, 9.99999827e-01, 0.00000000e+00,\n",
       "        0.00000000e+00],\n",
       "       [7.34324635e-04, 2.32040925e-04, 9.99999703e-01, 1.93367438e-05,\n",
       "        0.00000000e+00],\n",
       "       [7.00011058e-04, 1.65898575e-04, 9.99999741e-01, 1.84331750e-05,\n",
       "        0.00000000e+00],\n",
       "       [7.52558320e-04, 2.37802629e-04, 9.99999688e-01, 0.00000000e+00,\n",
       "        1.98168857e-05],\n",
       "       [5.89518491e-04, 2.32854124e-04, 9.99999799e-01, 0.00000000e+00,\n",
       "        1.55236083e-05],\n",
       "       [6.31201402e-04, 2.32697241e-04, 9.99999774e-01, 0.00000000e+00,\n",
       "        0.00000000e+00],\n",
       "       [5.70821355e-04, 1.50312624e-04, 9.99999826e-01, 0.00000000e+00,\n",
       "        1.50312624e-05],\n",
       "       [6.63005011e-04, 1.39669649e-04, 9.99999770e-01, 0.00000000e+00,\n",
       "        0.00000000e+00],\n",
       "       [5.30333681e-04, 1.67581356e-04, 9.99999845e-01, 0.00000000e+00,\n",
       "        0.00000000e+00],\n",
       "       [6.20293380e-04, 2.45009909e-04, 9.99999778e-01, 0.00000000e+00,\n",
       "        0.00000000e+00],\n",
       "       [5.55652941e-04, 2.04714241e-04, 9.99999825e-01, 0.00000000e+00,\n",
       "        1.46224458e-05],\n",
       "       [4.32927804e-04, 2.63980368e-04, 9.99999871e-01, 1.05592147e-05,\n",
       "        0.00000000e+00],\n",
       "       [4.91658497e-04, 1.89958965e-04, 9.99999861e-01, 0.00000000e+00,\n",
       "        0.00000000e+00],\n",
       "       [4.34736459e-04, 1.80256581e-04, 9.99999889e-01, 1.06033283e-05,\n",
       "        0.00000000e+00],\n",
       "       [6.12632346e-04, 2.57305586e-04, 9.99999779e-01, 0.00000000e+00,\n",
       "        1.22526469e-05],\n",
       "       [5.57492842e-04, 2.25369447e-04, 9.99999819e-01, 0.00000000e+00,\n",
       "        1.18615498e-05],\n",
       "       [5.55182450e-04, 3.22780494e-04, 9.99999794e-01, 1.29112198e-05,\n",
       "        0.00000000e+00],\n",
       "       [6.24154636e-04, 3.25080539e-04, 9.99999752e-01, 0.00000000e+00,\n",
       "        0.00000000e+00],\n",
       "       [5.06619009e-04, 2.42296048e-04, 9.99999842e-01, 1.10134567e-05,\n",
       "        0.00000000e+00],\n",
       "       [5.10079799e-04, 1.85483563e-04, 9.99999853e-01, 0.00000000e+00,\n",
       "        0.00000000e+00],\n",
       "       [5.36179243e-04, 2.68089621e-04, 9.99999820e-01, 1.27661724e-05,\n",
       "        0.00000000e+00],\n",
       "       [5.18372698e-04, 2.23842756e-04, 9.99999841e-01, 0.00000000e+00,\n",
       "        1.17811977e-05],\n",
       "       [6.40288377e-04, 2.09073756e-04, 9.99999773e-01, 0.00000000e+00,\n",
       "        0.00000000e+00],\n",
       "       [5.26794608e-04, 2.15506885e-04, 9.99999838e-01, 0.00000000e+00,\n",
       "        0.00000000e+00],\n",
       "       [5.48970301e-04, 2.46476462e-04, 9.99999819e-01, 0.00000000e+00,\n",
       "        1.12034755e-05],\n",
       "       [5.83314438e-04, 2.25371488e-04, 9.99999804e-01, 1.32571463e-05,\n",
       "        0.00000000e+00],\n",
       "       [5.22477334e-04, 1.74159111e-04, 9.99999848e-01, 0.00000000e+00,\n",
       "        1.08849445e-05],\n",
       "       [6.12713003e-04, 2.99838278e-04, 9.99999767e-01, 0.00000000e+00,\n",
       "        0.00000000e+00],\n",
       "       [5.25088654e-04, 2.31039008e-04, 9.99999835e-01, 0.00000000e+00,\n",
       "        0.00000000e+00],\n",
       "       [4.62544818e-04, 2.09246465e-04, 9.99999871e-01, 0.00000000e+00,\n",
       "        1.10129719e-05],\n",
       "       [5.56347479e-04, 2.20220877e-04, 9.99999821e-01, 1.15905725e-05,\n",
       "        0.00000000e+00],\n",
       "       [5.94853093e-04, 3.10358135e-04, 9.99999775e-01, 0.00000000e+00,\n",
       "        0.00000000e+00],\n",
       "       [4.92460584e-04, 2.69680796e-04, 9.99999842e-01, 0.00000000e+00,\n",
       "        1.17252520e-05],\n",
       "       [4.94886101e-04, 2.41944316e-04, 9.99999848e-01, 0.00000000e+00,\n",
       "        1.09974689e-05],\n",
       "       [5.40339650e-04, 1.91370293e-04, 9.99999836e-01, 0.00000000e+00,\n",
       "        0.00000000e+00],\n",
       "       [4.27492963e-04, 2.39813125e-04, 9.99999880e-01, 0.00000000e+00,\n",
       "        1.04266576e-05],\n",
       "       [5.30503893e-04, 2.05705591e-04, 9.99999838e-01, 0.00000000e+00,\n",
       "        1.08266101e-05],\n",
       "       [4.36848669e-04, 2.34406603e-04, 9.99999877e-01, 0.00000000e+00,\n",
       "        1.06548456e-05],\n",
       "       [4.92172041e-04, 2.81241166e-04, 9.99999839e-01, 0.00000000e+00,\n",
       "        1.17183819e-05],\n",
       "       [5.13154185e-04, 2.75351026e-04, 9.99999830e-01, 1.25159557e-05,\n",
       "        0.00000000e+00],\n",
       "       [5.31236628e-04, 2.47910426e-04, 9.99999828e-01, 1.18052584e-05,\n",
       "        0.00000000e+00],\n",
       "       [4.86529845e-04, 1.81034361e-04, 9.99999865e-01, 0.00000000e+00,\n",
       "        0.00000000e+00],\n",
       "       [4.93530390e-04, 1.93120587e-04, 9.99999860e-01, 1.07289215e-05,\n",
       "        0.00000000e+00],\n",
       "       [5.12010379e-04, 2.17876757e-04, 9.99999845e-01, 0.00000000e+00,\n",
       "        1.08938378e-05],\n",
       "       [4.66650017e-04, 1.76290006e-04, 9.99999876e-01, 1.03700004e-05,\n",
       "        0.00000000e+00],\n",
       "       [5.04201606e-04, 2.04081602e-04, 9.99999852e-01, 0.00000000e+00,\n",
       "        1.20048001e-05],\n",
       "       [4.64242695e-04, 2.21570377e-04, 9.99999868e-01, 0.00000000e+00,\n",
       "        1.05509703e-05],\n",
       "       [5.46892943e-04, 2.30910354e-04, 9.99999824e-01, 1.21531765e-05,\n",
       "        0.00000000e+00],\n",
       "       [4.53346464e-04, 2.16369903e-04, 9.99999874e-01, 1.03033287e-05,\n",
       "        0.00000000e+00],\n",
       "       [5.36199056e-04, 2.28169811e-04, 9.99999830e-01, 0.00000000e+00,\n",
       "        0.00000000e+00],\n",
       "       [4.89568776e-04, 2.11404699e-04, 9.99999858e-01, 0.00000000e+00,\n",
       "        1.11265631e-05],\n",
       "       [4.48156395e-04, 1.83336707e-04, 9.99999883e-01, 1.01853726e-05,\n",
       "        0.00000000e+00],\n",
       "       [4.87022561e-04, 2.01936184e-04, 9.99999861e-01, 0.00000000e+00,\n",
       "        1.18785990e-05],\n",
       "       [6.03705110e-04, 2.64120986e-04, 9.99999783e-01, 1.25771898e-05,\n",
       "        0.00000000e+00],\n",
       "       [4.89845832e-04, 2.24512673e-04, 9.99999855e-01, 1.02051215e-05,\n",
       "        0.00000000e+00],\n",
       "       [5.94357270e-04, 2.78209786e-04, 9.99999785e-01, 0.00000000e+00,\n",
       "        1.26458994e-05],\n",
       "       [5.66593066e-04, 2.46344811e-04, 9.99999809e-01, 0.00000000e+00,\n",
       "        1.23172406e-05],\n",
       "       [5.24765262e-04, 2.14676698e-04, 9.99999839e-01, 0.00000000e+00,\n",
       "        0.00000000e+00],\n",
       "       [5.27153952e-04, 2.46752914e-04, 9.99999831e-01, 0.00000000e+00,\n",
       "        0.00000000e+00],\n",
       "       [4.80113413e-04, 2.29145038e-04, 9.99999858e-01, 1.09116685e-05,\n",
       "        0.00000000e+00]])"
      ]
     },
     "execution_count": 51,
     "metadata": {},
     "output_type": "execute_result"
    }
   ],
   "source": [
    "# Normalisation\n",
    "from sklearn.preprocessing import Normalizer\n",
    "nor_x= Normalizer()\n",
    "nor_x = nor_x.fit_transform(df_1)\n",
    "nor_x"
   ]
  },
  {
   "cell_type": "markdown",
   "id": "1ba04ec3",
   "metadata": {},
   "source": [
    "# EDA Cars"
   ]
  },
  {
   "cell_type": "code",
   "execution_count": 59,
   "id": "f5a4e505",
   "metadata": {},
   "outputs": [
    {
     "data": {
      "text/html": [
       "<div>\n",
       "<style scoped>\n",
       "    .dataframe tbody tr th:only-of-type {\n",
       "        vertical-align: middle;\n",
       "    }\n",
       "\n",
       "    .dataframe tbody tr th {\n",
       "        vertical-align: top;\n",
       "    }\n",
       "\n",
       "    .dataframe thead th {\n",
       "        text-align: right;\n",
       "    }\n",
       "</style>\n",
       "<table border=\"1\" class=\"dataframe\">\n",
       "  <thead>\n",
       "    <tr style=\"text-align: right;\">\n",
       "      <th></th>\n",
       "      <th>INDEX</th>\n",
       "      <th>INCOME</th>\n",
       "      <th>MARITAL STATUS</th>\n",
       "      <th>SEX</th>\n",
       "      <th>EDUCATION</th>\n",
       "      <th>JOB</th>\n",
       "      <th>TRAVEL TIME</th>\n",
       "      <th>USE</th>\n",
       "      <th>MILES CLOCKED</th>\n",
       "      <th>CAR TYPE</th>\n",
       "      <th>CAR AGE</th>\n",
       "      <th>CITY</th>\n",
       "      <th>POSTAL CODE</th>\n",
       "    </tr>\n",
       "  </thead>\n",
       "  <tbody>\n",
       "    <tr>\n",
       "      <th>0</th>\n",
       "      <td>1</td>\n",
       "      <td>125301.24250</td>\n",
       "      <td>No</td>\n",
       "      <td>F</td>\n",
       "      <td>Bachelors</td>\n",
       "      <td>Blue Collar</td>\n",
       "      <td>45.703013</td>\n",
       "      <td>Commercial</td>\n",
       "      <td>17430.0</td>\n",
       "      <td>Sports Car</td>\n",
       "      <td>7.0</td>\n",
       "      <td>Texas</td>\n",
       "      <td>42420.0</td>\n",
       "    </tr>\n",
       "    <tr>\n",
       "      <th>1</th>\n",
       "      <td>2</td>\n",
       "      <td>50815.44531</td>\n",
       "      <td>No</td>\n",
       "      <td>M</td>\n",
       "      <td>High School</td>\n",
       "      <td>NaN</td>\n",
       "      <td>20.591628</td>\n",
       "      <td>Private</td>\n",
       "      <td>18930.0</td>\n",
       "      <td>Minivan</td>\n",
       "      <td>1.0</td>\n",
       "      <td>Texas</td>\n",
       "      <td>42420.0</td>\n",
       "    </tr>\n",
       "    <tr>\n",
       "      <th>2</th>\n",
       "      <td>3</td>\n",
       "      <td>62977.82416</td>\n",
       "      <td>NaN</td>\n",
       "      <td>F</td>\n",
       "      <td>Bachelors</td>\n",
       "      <td>Clerical</td>\n",
       "      <td>33.639949</td>\n",
       "      <td>Private</td>\n",
       "      <td>NaN</td>\n",
       "      <td>SUV</td>\n",
       "      <td>1.0</td>\n",
       "      <td>Texas</td>\n",
       "      <td>42420.0</td>\n",
       "    </tr>\n",
       "    <tr>\n",
       "      <th>3</th>\n",
       "      <td>4</td>\n",
       "      <td>77099.96624</td>\n",
       "      <td>No</td>\n",
       "      <td>F</td>\n",
       "      <td>NaN</td>\n",
       "      <td>Lawyer</td>\n",
       "      <td>15.415676</td>\n",
       "      <td>NaN</td>\n",
       "      <td>18300.0</td>\n",
       "      <td>Sports Car</td>\n",
       "      <td>11.0</td>\n",
       "      <td>Texas</td>\n",
       "      <td>42420.0</td>\n",
       "    </tr>\n",
       "    <tr>\n",
       "      <th>4</th>\n",
       "      <td>5</td>\n",
       "      <td>130794.57420</td>\n",
       "      <td>No</td>\n",
       "      <td>M</td>\n",
       "      <td>High School</td>\n",
       "      <td>NaN</td>\n",
       "      <td>NaN</td>\n",
       "      <td>Commercial</td>\n",
       "      <td>28340.0</td>\n",
       "      <td>Panel Truck</td>\n",
       "      <td>10.0</td>\n",
       "      <td>Texas</td>\n",
       "      <td>42420.0</td>\n",
       "    </tr>\n",
       "  </tbody>\n",
       "</table>\n",
       "</div>"
      ],
      "text/plain": [
       "   INDEX        INCOME MARITAL STATUS SEX    EDUCATION          JOB  \\\n",
       "0      1  125301.24250             No   F    Bachelors  Blue Collar   \n",
       "1      2   50815.44531             No   M  High School          NaN   \n",
       "2      3   62977.82416            NaN   F    Bachelors     Clerical   \n",
       "3      4   77099.96624             No   F          NaN       Lawyer   \n",
       "4      5  130794.57420             No   M  High School          NaN   \n",
       "\n",
       "   TRAVEL TIME         USE  MILES CLOCKED     CAR TYPE  CAR AGE   CITY  \\\n",
       "0    45.703013  Commercial        17430.0   Sports Car      7.0  Texas   \n",
       "1    20.591628     Private        18930.0      Minivan      1.0  Texas   \n",
       "2    33.639949     Private            NaN          SUV      1.0  Texas   \n",
       "3    15.415676         NaN        18300.0   Sports Car     11.0  Texas   \n",
       "4          NaN  Commercial        28340.0  Panel Truck     10.0  Texas   \n",
       "\n",
       "   POSTAL CODE  \n",
       "0      42420.0  \n",
       "1      42420.0  \n",
       "2      42420.0  \n",
       "3      42420.0  \n",
       "4      42420.0  "
      ]
     },
     "execution_count": 59,
     "metadata": {},
     "output_type": "execute_result"
    }
   ],
   "source": [
    "cars= pd.read_excel(\"EDA Cars.xlsx\")\n",
    "cars.head()"
   ]
  },
  {
   "cell_type": "code",
   "execution_count": 54,
   "id": "cd022539",
   "metadata": {},
   "outputs": [
    {
     "data": {
      "text/plain": [
       "INDEX              0\n",
       "INCOME            43\n",
       "MARITAL STATUS    28\n",
       "SEX                6\n",
       "EDUCATION         44\n",
       "JOB               46\n",
       "TRAVEL TIME       41\n",
       "USE               53\n",
       "MILES CLOCKED     25\n",
       "CAR TYPE          10\n",
       "CAR AGE           20\n",
       "CITY               6\n",
       "POSTAL CODE        3\n",
       "dtype: int64"
      ]
     },
     "execution_count": 54,
     "metadata": {},
     "output_type": "execute_result"
    }
   ],
   "source": [
    "cars.isnull().sum()"
   ]
  },
  {
   "cell_type": "code",
   "execution_count": 60,
   "id": "63063fd1",
   "metadata": {},
   "outputs": [
    {
     "data": {
      "text/plain": [
       "<AxesSubplot:ylabel='INCOME'>"
      ]
     },
     "execution_count": 60,
     "metadata": {},
     "output_type": "execute_result"
    },
    {
     "data": {
      "image/png": "[encoded data removed]",
      "text/plain": [
       "<Figure size 640x480 with 1 Axes>"
      ]
     },
     "metadata": {},
     "output_type": "display_data"
    }
   ],
   "source": [
    "sns.boxplot(y= 'INCOME', data= cars)"
   ]
  },
  {
   "cell_type": "code",
   "execution_count": 57,
   "id": "06a339c6",
   "metadata": {},
   "outputs": [],
   "source": [
    "cars['INCOME']= cars['INCOME'].fillna(cars['INCOME'].median())"
   ]
  },
  {
   "cell_type": "code",
   "execution_count": 63,
   "id": "daed8fc0",
   "metadata": {},
   "outputs": [],
   "source": [
    "# Handling outlier\n",
    "def remove_outlier(col):\n",
    "    sorted(col)\n",
    "    Q1, Q3 =col.quantile([0.25, 0.75])\n",
    "    IQR= Q3- Q1\n",
    "    lower_range= Q1- (1.5* IQR)\n",
    "    upper_range= Q3+ (1.5* IQR)\n",
    "    return lower_range, upper_range"
   ]
  },
  {
   "cell_type": "code",
   "execution_count": 64,
   "id": "a8312368",
   "metadata": {},
   "outputs": [],
   "source": [
    "lr_income, up_income = remove_outlier(cars['INCOME'])"
   ]
  },
  {
   "cell_type": "code",
   "execution_count": 65,
   "id": "407c76a5",
   "metadata": {},
   "outputs": [
    {
     "name": "stdout",
     "output_type": "stream",
     "text": [
      "-48596.429524999985 135535.07593499997\n"
     ]
    }
   ],
   "source": [
    "print(lr_income, up_income)"
   ]
  },
  {
   "cell_type": "code",
   "execution_count": 67,
   "id": "38c55d40",
   "metadata": {},
   "outputs": [],
   "source": [
    "cars['INCOME'] = np.where(cars['INCOME'] > up_income, up_income, cars['INCOME'])\n",
    "cars['INCOME'] = np.where(cars['INCOME'] < lr_income, lr_income, cars['INCOME'])"
   ]
  },
  {
   "cell_type": "code",
   "execution_count": 68,
   "id": "4cf202ba",
   "metadata": {},
   "outputs": [
    {
     "data": {
      "text/plain": [
       "<AxesSubplot:ylabel='INCOME'>"
      ]
     },
     "execution_count": 68,
     "metadata": {},
     "output_type": "execute_result"
    },
    {
     "data": {
      "image/png": "[encoded data removed]",
      "text/plain": [
       "<Figure size 640x480 with 1 Axes>"
      ]
     },
     "metadata": {},
     "output_type": "display_data"
    }
   ],
   "source": [
    "sns.boxplot(y= 'INCOME', data= cars)"
   ]
  },
  {
   "cell_type": "code",
   "execution_count": null,
   "id": "0ee222f6",
   "metadata": {},
   "outputs": [],
   "source": []
  }
 ],
 "metadata": {
  "kernelspec": {
   "display_name": "Python 3 (ipykernel)",
   "language": "python",
   "name": "python3"
  },
  "language_info": {
   "codemirror_mode": {
    "name": "ipython",
    "version": 3
   },
   "file_extension": ".py",
   "mimetype": "text/x-python",
   "name": "python",
   "nbconvert_exporter": "python",
   "pygments_lexer": "ipython3",
   "version": "3.9.13"
  }
 },
 "nbformat": 4,
 "nbformat_minor": 5
}
